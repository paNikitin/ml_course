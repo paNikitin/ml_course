{
 "cells": [
  {
   "cell_type": "code",
   "execution_count": 1,
   "id": "1ac31e10",
   "metadata": {},
   "outputs": [],
   "source": [
    "import numpy as np\n",
    "import pandas as pd\n",
    "import matplotlib.pyplot as plt\n",
    "import seaborn as sns\n",
    "import warnings\n",
    "warnings.filterwarnings('ignore')"
   ]
  },
  {
   "cell_type": "code",
   "execution_count": 2,
   "id": "327f1048",
   "metadata": {},
   "outputs": [
    {
     "data": {
      "text/html": [
       "<div>\n",
       "<style scoped>\n",
       "    .dataframe tbody tr th:only-of-type {\n",
       "        vertical-align: middle;\n",
       "    }\n",
       "\n",
       "    .dataframe tbody tr th {\n",
       "        vertical-align: top;\n",
       "    }\n",
       "\n",
       "    .dataframe thead th {\n",
       "        text-align: right;\n",
       "    }\n",
       "</style>\n",
       "<table border=\"1\" class=\"dataframe\">\n",
       "  <thead>\n",
       "    <tr style=\"text-align: right;\">\n",
       "      <th></th>\n",
       "      <th>id</th>\n",
       "      <th>release</th>\n",
       "      <th>n_0000</th>\n",
       "      <th>n_0001</th>\n",
       "      <th>n_0002</th>\n",
       "      <th>n_0003</th>\n",
       "      <th>n_0004</th>\n",
       "      <th>n_0005</th>\n",
       "      <th>n_0006</th>\n",
       "      <th>n_0007</th>\n",
       "      <th>...</th>\n",
       "      <th>c_1368</th>\n",
       "      <th>c_1369</th>\n",
       "      <th>c_1370</th>\n",
       "      <th>c_1371</th>\n",
       "      <th>c_1372</th>\n",
       "      <th>c_1373</th>\n",
       "      <th>c_1374</th>\n",
       "      <th>c_1375</th>\n",
       "      <th>c_1376</th>\n",
       "      <th>c_1377</th>\n",
       "    </tr>\n",
       "  </thead>\n",
       "  <tbody>\n",
       "    <tr>\n",
       "      <th>0</th>\n",
       "      <td>11193</td>\n",
       "      <td>a</td>\n",
       "      <td>NaN</td>\n",
       "      <td>NaN</td>\n",
       "      <td>0.025449</td>\n",
       "      <td>NaN</td>\n",
       "      <td>NaN</td>\n",
       "      <td>0.368421</td>\n",
       "      <td>NaN</td>\n",
       "      <td>NaN</td>\n",
       "      <td>...</td>\n",
       "      <td>NaN</td>\n",
       "      <td>NaN</td>\n",
       "      <td>NaN</td>\n",
       "      <td>NaN</td>\n",
       "      <td>a</td>\n",
       "      <td>NaN</td>\n",
       "      <td>q</td>\n",
       "      <td>NaN</td>\n",
       "      <td>NaN</td>\n",
       "      <td>NaN</td>\n",
       "    </tr>\n",
       "    <tr>\n",
       "      <th>1</th>\n",
       "      <td>11382</td>\n",
       "      <td>a</td>\n",
       "      <td>NaN</td>\n",
       "      <td>NaN</td>\n",
       "      <td>0.031297</td>\n",
       "      <td>NaN</td>\n",
       "      <td>NaN</td>\n",
       "      <td>0.315789</td>\n",
       "      <td>NaN</td>\n",
       "      <td>NaN</td>\n",
       "      <td>...</td>\n",
       "      <td>NaN</td>\n",
       "      <td>NaN</td>\n",
       "      <td>a</td>\n",
       "      <td>NaN</td>\n",
       "      <td>a</td>\n",
       "      <td>NaN</td>\n",
       "      <td>NaN</td>\n",
       "      <td>NaN</td>\n",
       "      <td>NaN</td>\n",
       "      <td>NaN</td>\n",
       "    </tr>\n",
       "    <tr>\n",
       "      <th>2</th>\n",
       "      <td>16531</td>\n",
       "      <td>a</td>\n",
       "      <td>NaN</td>\n",
       "      <td>NaN</td>\n",
       "      <td>0.024475</td>\n",
       "      <td>NaN</td>\n",
       "      <td>NaN</td>\n",
       "      <td>0.342105</td>\n",
       "      <td>NaN</td>\n",
       "      <td>NaN</td>\n",
       "      <td>...</td>\n",
       "      <td>NaN</td>\n",
       "      <td>NaN</td>\n",
       "      <td>a</td>\n",
       "      <td>NaN</td>\n",
       "      <td>a</td>\n",
       "      <td>NaN</td>\n",
       "      <td>b</td>\n",
       "      <td>NaN</td>\n",
       "      <td>NaN</td>\n",
       "      <td>NaN</td>\n",
       "    </tr>\n",
       "    <tr>\n",
       "      <th>3</th>\n",
       "      <td>1896</td>\n",
       "      <td>a</td>\n",
       "      <td>NaN</td>\n",
       "      <td>NaN</td>\n",
       "      <td>0.041694</td>\n",
       "      <td>NaN</td>\n",
       "      <td>NaN</td>\n",
       "      <td>0.447368</td>\n",
       "      <td>NaN</td>\n",
       "      <td>NaN</td>\n",
       "      <td>...</td>\n",
       "      <td>NaN</td>\n",
       "      <td>NaN</td>\n",
       "      <td>NaN</td>\n",
       "      <td>NaN</td>\n",
       "      <td>a</td>\n",
       "      <td>NaN</td>\n",
       "      <td>NaN</td>\n",
       "      <td>NaN</td>\n",
       "      <td>NaN</td>\n",
       "      <td>NaN</td>\n",
       "    </tr>\n",
       "    <tr>\n",
       "      <th>4</th>\n",
       "      <td>18262</td>\n",
       "      <td>c</td>\n",
       "      <td>NaN</td>\n",
       "      <td>NaN</td>\n",
       "      <td>0.038120</td>\n",
       "      <td>NaN</td>\n",
       "      <td>NaN</td>\n",
       "      <td>0.315789</td>\n",
       "      <td>NaN</td>\n",
       "      <td>NaN</td>\n",
       "      <td>...</td>\n",
       "      <td>NaN</td>\n",
       "      <td>NaN</td>\n",
       "      <td>b</td>\n",
       "      <td>NaN</td>\n",
       "      <td>a</td>\n",
       "      <td>NaN</td>\n",
       "      <td>a</td>\n",
       "      <td>NaN</td>\n",
       "      <td>NaN</td>\n",
       "      <td>NaN</td>\n",
       "    </tr>\n",
       "  </tbody>\n",
       "</table>\n",
       "<p>5 rows × 1379 columns</p>\n",
       "</div>"
      ],
      "text/plain": [
       "      id release  n_0000  n_0001    n_0002  n_0003  n_0004    n_0005  n_0006  \\\n",
       "0  11193       a     NaN     NaN  0.025449     NaN     NaN  0.368421     NaN   \n",
       "1  11382       a     NaN     NaN  0.031297     NaN     NaN  0.315789     NaN   \n",
       "2  16531       a     NaN     NaN  0.024475     NaN     NaN  0.342105     NaN   \n",
       "3   1896       a     NaN     NaN  0.041694     NaN     NaN  0.447368     NaN   \n",
       "4  18262       c     NaN     NaN  0.038120     NaN     NaN  0.315789     NaN   \n",
       "\n",
       "   n_0007  ...  c_1368  c_1369  c_1370  c_1371  c_1372  c_1373  c_1374  \\\n",
       "0     NaN  ...     NaN     NaN     NaN     NaN       a     NaN       q   \n",
       "1     NaN  ...     NaN     NaN       a     NaN       a     NaN     NaN   \n",
       "2     NaN  ...     NaN     NaN       a     NaN       a     NaN       b   \n",
       "3     NaN  ...     NaN     NaN     NaN     NaN       a     NaN     NaN   \n",
       "4     NaN  ...     NaN     NaN       b     NaN       a     NaN       a   \n",
       "\n",
       "   c_1375  c_1376  c_1377  \n",
       "0     NaN     NaN     NaN  \n",
       "1     NaN     NaN     NaN  \n",
       "2     NaN     NaN     NaN  \n",
       "3     NaN     NaN     NaN  \n",
       "4     NaN     NaN     NaN  \n",
       "\n",
       "[5 rows x 1379 columns]"
      ]
     },
     "execution_count": 2,
     "metadata": {},
     "output_type": "execute_result"
    }
   ],
   "source": [
    "df = pd.read_csv('ml-course-main/data/multiclass_classification/train_data.csv', nrows=500)\n",
    "df.head()"
   ]
  },
  {
   "cell_type": "code",
   "execution_count": null,
   "id": "5243c05d",
   "metadata": {},
   "outputs": [],
   "source": []
  },
  {
   "cell_type": "code",
   "execution_count": 3,
   "id": "fdb92660",
   "metadata": {},
   "outputs": [],
   "source": [
    "for column in list(df.loc[:,'c_0327':].columns):\n",
    "    for row_number in range(0,df.shape[0]):\n",
    "        if (df[column].loc[row_number] == \"\"):\n",
    "            pass\n",
    "        else:\n",
    "            if isinstance(df[column].loc[row_number], float):\n",
    "                pass\n",
    "            else:\n",
    "                df[column].loc[row_number] = ord(df[column].loc[row_number])"
   ]
  },
  {
   "cell_type": "code",
   "execution_count": 4,
   "id": "6fed3e6d",
   "metadata": {},
   "outputs": [],
   "source": [
    "df.loc[:,'c_0327':] = df.loc[:,'c_0327':].astype(float)"
   ]
  },
  {
   "cell_type": "code",
   "execution_count": 5,
   "id": "c32ef159",
   "metadata": {},
   "outputs": [],
   "source": [
    "df = df.fillna(0.0)"
   ]
  },
  {
   "cell_type": "code",
   "execution_count": 6,
   "id": "86431976",
   "metadata": {},
   "outputs": [
    {
     "data": {
      "text/html": [
       "<div>\n",
       "<style scoped>\n",
       "    .dataframe tbody tr th:only-of-type {\n",
       "        vertical-align: middle;\n",
       "    }\n",
       "\n",
       "    .dataframe tbody tr th {\n",
       "        vertical-align: top;\n",
       "    }\n",
       "\n",
       "    .dataframe thead th {\n",
       "        text-align: right;\n",
       "    }\n",
       "</style>\n",
       "<table border=\"1\" class=\"dataframe\">\n",
       "  <thead>\n",
       "    <tr style=\"text-align: right;\">\n",
       "      <th></th>\n",
       "      <th>id</th>\n",
       "      <th>release</th>\n",
       "      <th>n_0000</th>\n",
       "      <th>n_0001</th>\n",
       "      <th>n_0002</th>\n",
       "      <th>n_0003</th>\n",
       "      <th>n_0004</th>\n",
       "      <th>n_0005</th>\n",
       "      <th>n_0006</th>\n",
       "      <th>n_0007</th>\n",
       "      <th>...</th>\n",
       "      <th>c_1368</th>\n",
       "      <th>c_1369</th>\n",
       "      <th>c_1370</th>\n",
       "      <th>c_1371</th>\n",
       "      <th>c_1372</th>\n",
       "      <th>c_1373</th>\n",
       "      <th>c_1374</th>\n",
       "      <th>c_1375</th>\n",
       "      <th>c_1376</th>\n",
       "      <th>c_1377</th>\n",
       "    </tr>\n",
       "  </thead>\n",
       "  <tbody>\n",
       "    <tr>\n",
       "      <th>0</th>\n",
       "      <td>11193</td>\n",
       "      <td>a</td>\n",
       "      <td>0.0</td>\n",
       "      <td>0.0</td>\n",
       "      <td>0.025449</td>\n",
       "      <td>0.0</td>\n",
       "      <td>0.0</td>\n",
       "      <td>0.368421</td>\n",
       "      <td>0.0</td>\n",
       "      <td>0.0</td>\n",
       "      <td>...</td>\n",
       "      <td>0.0</td>\n",
       "      <td>0.0</td>\n",
       "      <td>0.0</td>\n",
       "      <td>0.0</td>\n",
       "      <td>97.0</td>\n",
       "      <td>0.0</td>\n",
       "      <td>113.0</td>\n",
       "      <td>0.0</td>\n",
       "      <td>0.0</td>\n",
       "      <td>0.0</td>\n",
       "    </tr>\n",
       "    <tr>\n",
       "      <th>1</th>\n",
       "      <td>11382</td>\n",
       "      <td>a</td>\n",
       "      <td>0.0</td>\n",
       "      <td>0.0</td>\n",
       "      <td>0.031297</td>\n",
       "      <td>0.0</td>\n",
       "      <td>0.0</td>\n",
       "      <td>0.315789</td>\n",
       "      <td>0.0</td>\n",
       "      <td>0.0</td>\n",
       "      <td>...</td>\n",
       "      <td>0.0</td>\n",
       "      <td>0.0</td>\n",
       "      <td>97.0</td>\n",
       "      <td>0.0</td>\n",
       "      <td>97.0</td>\n",
       "      <td>0.0</td>\n",
       "      <td>0.0</td>\n",
       "      <td>0.0</td>\n",
       "      <td>0.0</td>\n",
       "      <td>0.0</td>\n",
       "    </tr>\n",
       "  </tbody>\n",
       "</table>\n",
       "<p>2 rows × 1379 columns</p>\n",
       "</div>"
      ],
      "text/plain": [
       "      id release  n_0000  n_0001    n_0002  n_0003  n_0004    n_0005  n_0006  \\\n",
       "0  11193       a     0.0     0.0  0.025449     0.0     0.0  0.368421     0.0   \n",
       "1  11382       a     0.0     0.0  0.031297     0.0     0.0  0.315789     0.0   \n",
       "\n",
       "   n_0007  ...  c_1368  c_1369  c_1370  c_1371  c_1372  c_1373  c_1374  \\\n",
       "0     0.0  ...     0.0     0.0     0.0     0.0    97.0     0.0   113.0   \n",
       "1     0.0  ...     0.0     0.0    97.0     0.0    97.0     0.0     0.0   \n",
       "\n",
       "   c_1375  c_1376  c_1377  \n",
       "0     0.0     0.0     0.0  \n",
       "1     0.0     0.0     0.0  \n",
       "\n",
       "[2 rows x 1379 columns]"
      ]
     },
     "execution_count": 6,
     "metadata": {},
     "output_type": "execute_result"
    }
   ],
   "source": [
    "df.head(2)"
   ]
  },
  {
   "cell_type": "code",
   "execution_count": 7,
   "id": "edcfeb99",
   "metadata": {},
   "outputs": [
    {
     "data": {
      "text/plain": [
       "a    258\n",
       "b    148\n",
       "c     94\n",
       "Name: release, dtype: int64"
      ]
     },
     "execution_count": 7,
     "metadata": {},
     "output_type": "execute_result"
    }
   ],
   "source": [
    "df.release.value_counts()"
   ]
  },
  {
   "cell_type": "code",
   "execution_count": 8,
   "id": "68bd4e52",
   "metadata": {},
   "outputs": [],
   "source": [
    "df['output'] = 0"
   ]
  },
  {
   "cell_type": "code",
   "execution_count": 9,
   "id": "3978ccae",
   "metadata": {},
   "outputs": [],
   "source": [
    "df.loc[df['release'] == 'b', 'output'] = 1\n",
    "df.loc[df['release'] == 'c', 'output'] = 2"
   ]
  },
  {
   "cell_type": "code",
   "execution_count": null,
   "id": "18530058",
   "metadata": {},
   "outputs": [],
   "source": []
  },
  {
   "cell_type": "code",
   "execution_count": 10,
   "id": "bfff3966",
   "metadata": {},
   "outputs": [
    {
     "data": {
      "image/png": "[encoded data removed]",
      "text/plain": [
       "<Figure size 640x480 with 1 Axes>"
      ]
     },
     "metadata": {},
     "output_type": "display_data"
    }
   ],
   "source": [
    "sns.barplot(x = \"output\", y = \"n_0005\", data = df); # у класса C наибольший показатель признака n_005"
   ]
  },
  {
   "cell_type": "code",
   "execution_count": null,
   "id": "ca6e7cd9",
   "metadata": {},
   "outputs": [],
   "source": []
  },
  {
   "cell_type": "code",
   "execution_count": 11,
   "id": "a9de1298",
   "metadata": {},
   "outputs": [],
   "source": [
    "from sklearn.preprocessing import StandardScaler\n",
    "from sklearn.model_selection import train_test_split\n",
    "\n",
    "y = df[\"output\"]\n",
    "X = df.drop(columns = ['release','id','output'])\n",
    "\n",
    "X_train, X_test, y_train, y_test = train_test_split(X, y, test_size = 0.3, random_state=42)\n",
    "scaler = StandardScaler()\n",
    "X_train_scaled = scaler.fit_transform(X_train)\n",
    "X_test_scaled = scaler.transform(X_test)"
   ]
  },
  {
   "cell_type": "code",
   "execution_count": 12,
   "id": "e5260f3d",
   "metadata": {},
   "outputs": [],
   "source": [
    "from sklearn.linear_model import LogisticRegression\n",
    "from sklearn.metrics import accuracy_score\n",
    "from sklearn.metrics import classification_report, precision_score, recall_score \n",
    "from sklearn.metrics import precision_recall_curve, roc_curve, auc, log_loss\n",
    "from sklearn.linear_model import LogisticRegression\n",
    "from sklearn.model_selection import cross_val_score\n",
    "from sklearn.preprocessing import StandardScaler\n",
    "from sklearn.model_selection import RepeatedStratifiedKFold\n",
    "from sklearn.pipeline import Pipeline\n",
    "from sklearn.model_selection import GridSearchCV\n",
    "from sklearn.multiclass import OneVsRestClassifier\n",
    "from sklearn.metrics import r2_score"
   ]
  },
  {
   "cell_type": "markdown",
   "id": "c5e83c51",
   "metadata": {},
   "source": [
    "# ovr_classifier"
   ]
  },
  {
   "cell_type": "code",
   "execution_count": 13,
   "id": "1f78770a",
   "metadata": {},
   "outputs": [],
   "source": [
    "#logreg"
   ]
  },
  {
   "cell_type": "code",
   "execution_count": 14,
   "id": "22f93d0b",
   "metadata": {},
   "outputs": [
    {
     "name": "stdout",
     "output_type": "stream",
     "text": [
      "{'estimator__C': 1e-15}\n"
     ]
    }
   ],
   "source": [
    "model_to_set = OneVsRestClassifier(LogisticRegression(random_state=11))\n",
    "\n",
    "parameters = {\n",
    "    \"estimator__C\": np.arange(1e-15, 1, 0.01)\n",
    "}\n",
    "scoring = {'AUC': 'roc_auc', 'F1': 'f1_weighted'}\n",
    "n_folds=5\n",
    "n_repeats=5\n",
    "rskfold = RepeatedStratifiedKFold(n_splits=n_folds, n_repeats=n_repeats, random_state=42)\n",
    "\n",
    "model_tunning = GridSearchCV(model_to_set, param_grid=parameters, cv=rskfold,\n",
    "                             scoring=scoring,refit='AUC')\n",
    "model_tunning.fit(X_train_scaled, y_train)\n",
    "print(model_tunning.best_params_)"
   ]
  },
  {
   "cell_type": "code",
   "execution_count": 15,
   "id": "4e5b51aa",
   "metadata": {},
   "outputs": [
    {
     "name": "stdout",
     "output_type": "stream",
     "text": [
      "GridSearchCV + multiple scorers + RepeatedStratifiedKFold\n",
      "================================================================================\n",
      "best estimator: OneVsRestClassifier(estimator=LogisticRegression(C=1e-15, random_state=11))\n",
      "best params: {'estimator__C': 1e-15}\n",
      "================================================================================\n"
     ]
    }
   ],
   "source": [
    "results = model_tunning.cv_results_\n",
    "print('GridSearchCV + multiple scorers + RepeatedStratifiedKFold')\n",
    "print('='*80)\n",
    "print(\"best estimator: \" + str(model_tunning.best_estimator_))\n",
    "print(\"best params: \" + str(model_tunning.best_params_))\n",
    "print('='*80)"
   ]
  },
  {
   "cell_type": "code",
   "execution_count": 16,
   "id": "a66f1f32",
   "metadata": {},
   "outputs": [
    {
     "name": "stdout",
     "output_type": "stream",
     "text": [
      "Learning time: 0.02109842899997716\n"
     ]
    }
   ],
   "source": [
    "import timeit\n",
    "model_to_set = OneVsRestClassifier(LogisticRegression(random_state=11, C=1e-15))\n",
    "\n",
    "starttime = timeit.default_timer()\n",
    "model_to_set.fit(X_train_scaled,y_train)\n",
    "ovr_lr_time = timeit.default_timer() - starttime\n",
    "print(\"Learning time:\", ovr_lr_time)\n",
    "predict = model_to_set.predict(X_test_scaled)\n",
    "predict_proba = model_to_set.predict_proba(X_test_scaled)[:,1]"
   ]
  },
  {
   "cell_type": "code",
   "execution_count": 17,
   "id": "78204d86",
   "metadata": {},
   "outputs": [
    {
     "data": {
      "text/plain": [
       "array([0, 1, 2])"
      ]
     },
     "execution_count": 17,
     "metadata": {},
     "output_type": "execute_result"
    }
   ],
   "source": [
    "model_to_set.classes_"
   ]
  },
  {
   "cell_type": "code",
   "execution_count": 18,
   "id": "4c81c261",
   "metadata": {},
   "outputs": [],
   "source": [
    "predict_0 = [1 if y == 0 else 0 for y in predict] \n",
    "predict_1 = [1 if y == 1 else 0 for y in predict] \n",
    "predict_2 = [1 if y == 2 else 0 for y in predict] \n",
    "predicts = [predict_0,predict_1,predict_2]"
   ]
  },
  {
   "cell_type": "code",
   "execution_count": 19,
   "id": "a2a26085",
   "metadata": {
    "scrolled": true
   },
   "outputs": [],
   "source": [
    "y_test_0 = [1 if y == 0 else 0 for y in y_test] \n",
    "y_test_1 = [1 if y == 1 else 0 for y in y_test] \n",
    "y_test_2 = [1 if y == 2 else 0 for y in y_test] \n",
    "y_tests = [y_test_0,y_test_1,y_test_2]"
   ]
  },
  {
   "cell_type": "code",
   "execution_count": 20,
   "id": "3a57845a",
   "metadata": {},
   "outputs": [],
   "source": [
    "from sklearn.metrics import roc_auc_score\n",
    "model_scores = np.zeros(3)\n",
    "for i in range (0,3):\n",
    "    model_scores[i] = roc_auc_score(y_tests[i],predicts[i])"
   ]
  },
  {
   "cell_type": "code",
   "execution_count": 21,
   "id": "9ee2b00d",
   "metadata": {},
   "outputs": [],
   "source": [
    "ovr_lr_auc = model_scores.mean()"
   ]
  },
  {
   "cell_type": "code",
   "execution_count": 22,
   "id": "be634fce",
   "metadata": {},
   "outputs": [],
   "source": [
    "ovr_lr_r2 = r2_score(y_test,predict)"
   ]
  },
  {
   "cell_type": "code",
   "execution_count": 23,
   "id": "495bb4ee",
   "metadata": {},
   "outputs": [
    {
     "name": "stdout",
     "output_type": "stream",
     "text": [
      "Train/Test split results:\n",
      "LogisticRegression accuracy is 0.007\n",
      "LogisticRegression log_loss is 0.775\n",
      "LogisticRegression auc is 0.360\n",
      "Train/Test split results:\n",
      "LogisticRegression accuracy is 0.813\n",
      "LogisticRegression log_loss is 0.604\n",
      "LogisticRegression auc is 1.000\n",
      "Train/Test split results:\n",
      "LogisticRegression accuracy is 0.527\n",
      "LogisticRegression log_loss is 0.530\n",
      "LogisticRegression auc is 0.044\n"
     ]
    },
    {
     "data": {
      "text/plain": [
       "<Figure size 640x480 with 0 Axes>"
      ]
     },
     "metadata": {},
     "output_type": "display_data"
    },
    {
     "data": {
      "image/png": "[encoded data removed]",
      "text/plain": [
       "<Figure size 2400x1800 with 3 Axes>"
      ]
     },
     "metadata": {},
     "output_type": "display_data"
    }
   ],
   "source": [
    "plt.figure()\n",
    "plt.figure(figsize=(24, 18))\n",
    "plt.suptitle(\"Roc curves\", fontsize=24)\n",
    "plt.subplots_adjust(wspace = 0.1, hspace= 0.1)\n",
    "\n",
    "for i in range(0,len(model_to_set.classes_)):\n",
    "    [fpr, tpr, thr] = roc_curve(y_tests[i], predict_proba)\n",
    "    print('Train/Test split results:')\n",
    "    print(LogisticRegression().__class__.__name__+\" accuracy is %2.3f\" % accuracy_score(y_tests[i], predict))\n",
    "    print(LogisticRegression().__class__.__name__+\" log_loss is %2.3f\" % log_loss(y_tests[i], predict_proba))\n",
    "    print(LogisticRegression().__class__.__name__+\" auc is %2.3f\" % auc(fpr, tpr))\n",
    "    idx = np.min(np.where(tpr > 0.95))\n",
    "    plt.subplot(1,3,i+1)\n",
    "    plt.title(f\"Roc curve{i}\")\n",
    "    plt.plot(fpr, tpr, color='coral', label='ROC curve (area = %0.3f)' % auc(fpr, tpr))\n",
    "    plt.plot([0, 2], [0, 2], 'k--')\n",
    "    plt.plot([0,fpr[idx]], [tpr[idx],tpr[idx]], 'k--', color='blue')\n",
    "    plt.plot([fpr[idx],fpr[idx]], [0,tpr[idx]], 'k--', color='blue')\n",
    "    plt.xlim([0.0, 1.2])\n",
    "    plt.ylim([0.0, 1.2])\n",
    "    plt.xlabel('False Positive Rate (1 - specificity)', fontsize=14)\n",
    "    plt.ylabel('True Positive Rate (recall)', fontsize=14)\n",
    "    plt.title(f'Receiver operating characteristic (ROC) curve {i}')\n",
    "    plt.legend(loc=\"lower right\")\n",
    "plt.show()"
   ]
  },
  {
   "cell_type": "code",
   "execution_count": 24,
   "id": "1bc1f4d7",
   "metadata": {},
   "outputs": [],
   "source": [
    "#svm\n",
    "from sklearn.svm import SVC"
   ]
  },
  {
   "cell_type": "code",
   "execution_count": 25,
   "id": "5dc2d7bf",
   "metadata": {},
   "outputs": [
    {
     "name": "stdout",
     "output_type": "stream",
     "text": [
      "{'estimator__C': 0.1, 'estimator__gamma': 'scale', 'estimator__kernel': 'linear'}\n"
     ]
    }
   ],
   "source": [
    "model_to_set = OneVsRestClassifier(SVC(random_state=11))\n",
    "\n",
    "parameters = {\n",
    "    \"estimator__C\": [0.1, 0.25, 0.5, 0.75, 1, 2],\n",
    "    \"estimator__kernel\": [\"linear\", \"rbf\"],\n",
    "    \"estimator__gamma\": [\"scale\", \"auto\", 0.0001, 0.001, 0.01, 0.1, 1]\n",
    "}\n",
    "scoring = {'AUC': 'roc_auc', 'F1': 'f1_weighted'}\n",
    "n_folds=5\n",
    "n_repeats=5\n",
    "rskfold = RepeatedStratifiedKFold(n_splits=n_folds, n_repeats=n_repeats, random_state=42)\n",
    "\n",
    "model_tunning = GridSearchCV(model_to_set, param_grid=parameters, cv=rskfold,\n",
    "                             scoring=scoring,refit='AUC')\n",
    "model_tunning.fit(X_train_scaled, y_train)\n",
    "print(model_tunning.best_params_)"
   ]
  },
  {
   "cell_type": "code",
   "execution_count": 26,
   "id": "fff927fd",
   "metadata": {},
   "outputs": [
    {
     "name": "stdout",
     "output_type": "stream",
     "text": [
      "GridSearchCV + multiple scorers + RepeatedStratifiedKFold\n",
      "================================================================================\n",
      "best estimator: OneVsRestClassifier(estimator=SVC(C=0.1, kernel='linear', random_state=11))\n",
      "best params: {'estimator__C': 0.1, 'estimator__gamma': 'scale', 'estimator__kernel': 'linear'}\n",
      "================================================================================\n"
     ]
    }
   ],
   "source": [
    "results = model_tunning.cv_results_\n",
    "print('GridSearchCV + multiple scorers + RepeatedStratifiedKFold')\n",
    "print('='*80)\n",
    "print(\"best estimator: \" + str(model_tunning.best_estimator_))\n",
    "print(\"best params: \" + str(model_tunning.best_params_))\n",
    "print('='*80)"
   ]
  },
  {
   "cell_type": "code",
   "execution_count": 27,
   "id": "13bac925",
   "metadata": {},
   "outputs": [
    {
     "name": "stdout",
     "output_type": "stream",
     "text": [
      "Learning time: 0.048402463999991596\n"
     ]
    }
   ],
   "source": [
    "import timeit\n",
    "model_to_set = OneVsRestClassifier(SVC(random_state=11,C=0.1,gamma='scale',kernel='linear'))\n",
    "starttime = timeit.default_timer()\n",
    "model_to_set.fit(X_train_scaled,y_train)\n",
    "ovr_svc_time = timeit.default_timer() - starttime\n",
    "print(\"Learning time:\", ovr_svc_time)\n",
    "predict = model_to_set.predict(X_test_scaled)"
   ]
  },
  {
   "cell_type": "code",
   "execution_count": 28,
   "id": "e29c55bb",
   "metadata": {},
   "outputs": [],
   "source": [
    "predict_0 = [1 if y == 0 else 0 for y in predict] \n",
    "predict_1 = [1 if y == 1 else 0 for y in predict] \n",
    "predict_2 = [1 if y == 2 else 0 for y in predict] \n",
    "predicts = [predict_0,predict_1,predict_2]"
   ]
  },
  {
   "cell_type": "code",
   "execution_count": 29,
   "id": "a6bd9815",
   "metadata": {},
   "outputs": [],
   "source": [
    "y_test_0 = [1 if y == 0 else 0 for y in y_test] \n",
    "y_test_1 = [1 if y == 1 else 0 for y in y_test] \n",
    "y_test_2 = [1 if y == 2 else 0 for y in y_test] \n",
    "y_tests = [y_test_0,y_test_1,y_test_2]"
   ]
  },
  {
   "cell_type": "code",
   "execution_count": 30,
   "id": "2f3f144b",
   "metadata": {},
   "outputs": [],
   "source": [
    "from sklearn.metrics import roc_auc_score\n",
    "model_scores = np.zeros(3)\n",
    "for i in range (0,3):\n",
    "    model_scores[i] = roc_auc_score(y_tests[i],predicts[i])"
   ]
  },
  {
   "cell_type": "code",
   "execution_count": 31,
   "id": "92414677",
   "metadata": {},
   "outputs": [],
   "source": [
    "ovr_svc_auc = model_scores.mean()\n",
    "ovr_svc_r2 = r2_score(y_test,predict)"
   ]
  },
  {
   "cell_type": "code",
   "execution_count": 32,
   "id": "0668b920",
   "metadata": {},
   "outputs": [],
   "source": [
    "#knn\n",
    "from sklearn.neighbors import KNeighborsClassifier"
   ]
  },
  {
   "cell_type": "code",
   "execution_count": 33,
   "id": "f66e055c",
   "metadata": {},
   "outputs": [
    {
     "name": "stdout",
     "output_type": "stream",
     "text": [
      "{'estimator__n_neighbors': 1, 'estimator__weights': 'uniform'}\n"
     ]
    }
   ],
   "source": [
    "model_to_set = OneVsRestClassifier(KNeighborsClassifier())\n",
    "parameters = {\n",
    "    \"estimator__n_neighbors\": np.arange(1, 11, 2),\n",
    "    \"estimator__weights\": ['uniform', 'distance']\n",
    "}\n",
    "scoring = {'AUC': 'roc_auc', 'F1': 'f1_weighted'}\n",
    "n_folds=5\n",
    "n_repeats=5\n",
    "rskfold = RepeatedStratifiedKFold(n_splits=n_folds, n_repeats=n_repeats, random_state=42)\n",
    "\n",
    "model_tunning = GridSearchCV(model_to_set, param_grid=parameters, cv=rskfold,\n",
    "                             scoring=scoring,refit='AUC')\n",
    "model_tunning.fit(X_train_scaled, y_train)\n",
    "print(model_tunning.best_params_)"
   ]
  },
  {
   "cell_type": "code",
   "execution_count": 34,
   "id": "1df77eb5",
   "metadata": {},
   "outputs": [
    {
     "name": "stdout",
     "output_type": "stream",
     "text": [
      "GridSearchCV + multiple scorers + RepeatedStratifiedKFold\n",
      "================================================================================\n",
      "best estimator: OneVsRestClassifier(estimator=KNeighborsClassifier(n_neighbors=1))\n",
      "best params: {'estimator__n_neighbors': 1, 'estimator__weights': 'uniform'}\n",
      "================================================================================\n"
     ]
    }
   ],
   "source": [
    "results = model_tunning.cv_results_\n",
    "print('GridSearchCV + multiple scorers + RepeatedStratifiedKFold')\n",
    "print('='*80)\n",
    "print(\"best estimator: \" + str(model_tunning.best_estimator_))\n",
    "print(\"best params: \" + str(model_tunning.best_params_))\n",
    "print('='*80)"
   ]
  },
  {
   "cell_type": "code",
   "execution_count": 35,
   "id": "8dfb9e90",
   "metadata": {},
   "outputs": [
    {
     "name": "stdout",
     "output_type": "stream",
     "text": [
      "Learning time: 0.014054178999998612\n"
     ]
    }
   ],
   "source": [
    "import timeit\n",
    "model_to_set = OneVsRestClassifier(KNeighborsClassifier(n_neighbors=1, weights='uniform'))\n",
    "starttime = timeit.default_timer()\n",
    "model_to_set.fit(X_train_scaled,y_train)\n",
    "ovr_knn_time = timeit.default_timer() - starttime\n",
    "print(\"Learning time:\", ovr_knn_time)\n",
    "predict = model_to_set.predict(X_test_scaled)\n",
    "predict_proba = model_to_set.predict_proba(X_test_scaled)[:,1]"
   ]
  },
  {
   "cell_type": "code",
   "execution_count": 36,
   "id": "3636a7b7",
   "metadata": {},
   "outputs": [],
   "source": [
    "predict_0 = [1 if y == 0 else 0 for y in predict] \n",
    "predict_1 = [1 if y == 1 else 0 for y in predict] \n",
    "predict_2 = [1 if y == 2 else 0 for y in predict] \n",
    "predicts = [predict_0,predict_1,predict_2]\n",
    "y_test_0 = [1 if y == 0 else 0 for y in y_test] \n",
    "y_test_1 = [1 if y == 1 else 0 for y in y_test] \n",
    "y_test_2 = [1 if y == 2 else 0 for y in y_test] \n",
    "y_tests = [y_test_0,y_test_1,y_test_2]"
   ]
  },
  {
   "cell_type": "code",
   "execution_count": 37,
   "id": "7407d781",
   "metadata": {},
   "outputs": [],
   "source": [
    "from sklearn.metrics import roc_auc_score\n",
    "model_scores = np.zeros(3)\n",
    "for i in range (0,3):\n",
    "    model_scores[i] = roc_auc_score(y_tests[i],predicts[i])"
   ]
  },
  {
   "cell_type": "code",
   "execution_count": 38,
   "id": "f321c47b",
   "metadata": {},
   "outputs": [],
   "source": [
    "ovr_knn_auc = model_scores.mean()\n",
    "ovr_knn_r2 = r2_score(y_test,predict)"
   ]
  },
  {
   "cell_type": "code",
   "execution_count": 39,
   "id": "55a784d9",
   "metadata": {},
   "outputs": [
    {
     "name": "stdout",
     "output_type": "stream",
     "text": [
      "Train/Test split results:\n",
      "KNeighborsClassifier accuracy is 0.033\n",
      "KNeighborsClassifier log_loss is 28.092\n",
      "KNeighborsClassifier auc is 0.199\n",
      "Train/Test split results:\n",
      "KNeighborsClassifier accuracy is 0.840\n",
      "KNeighborsClassifier log_loss is 0.230\n",
      "KNeighborsClassifier auc is 0.995\n",
      "Train/Test split results:\n",
      "KNeighborsClassifier accuracy is 0.527\n",
      "KNeighborsClassifier log_loss is 16.349\n",
      "KNeighborsClassifier auc is 0.321\n"
     ]
    },
    {
     "data": {
      "text/plain": [
       "<Figure size 640x480 with 0 Axes>"
      ]
     },
     "metadata": {},
     "output_type": "display_data"
    },
    {
     "data": {
      "image/png": "[encoded data removed]",
      "text/plain": [
       "<Figure size 2400x1800 with 3 Axes>"
      ]
     },
     "metadata": {},
     "output_type": "display_data"
    }
   ],
   "source": [
    "plt.figure()\n",
    "plt.figure(figsize=(24, 18))\n",
    "plt.suptitle(\"Roc curves\", fontsize=24)\n",
    "plt.subplots_adjust(wspace = 0.1, hspace= 0.1)\n",
    "\n",
    "for i in range(0,len(model_to_set.classes_)):\n",
    "    [fpr, tpr, thr] = roc_curve(y_tests[i], predict_proba)\n",
    "    print('Train/Test split results:')\n",
    "    print(KNeighborsClassifier().__class__.__name__+\" accuracy is %2.3f\" % accuracy_score(y_tests[i], predict))\n",
    "    print(KNeighborsClassifier().__class__.__name__+\" log_loss is %2.3f\" % log_loss(y_tests[i], predict_proba))\n",
    "    print(KNeighborsClassifier().__class__.__name__+\" auc is %2.3f\" % auc(fpr, tpr))\n",
    "    idx = np.min(np.where(tpr > 0.95))\n",
    "    plt.subplot(1,3,i+1)\n",
    "    plt.title(f\"Roc curve{i}\")\n",
    "    plt.plot(fpr, tpr, color='coral', label='ROC curve (area = %0.3f)' % auc(fpr, tpr))\n",
    "    plt.plot([0, 2], [0, 2], 'k--')\n",
    "    plt.plot([0,fpr[idx]], [tpr[idx],tpr[idx]], 'k--', color='blue')\n",
    "    plt.plot([fpr[idx],fpr[idx]], [0,tpr[idx]], 'k--', color='blue')\n",
    "    plt.xlim([0.0, 1.2])\n",
    "    plt.ylim([0.0, 1.2])\n",
    "    plt.xlabel('False Positive Rate (1 - specificity)', fontsize=14)\n",
    "    plt.ylabel('True Positive Rate (recall)', fontsize=14)\n",
    "    plt.title(f'Receiver operating characteristic (ROC) curve {i}')\n",
    "    plt.legend(loc=\"lower right\")\n",
    "plt.show()"
   ]
  },
  {
   "cell_type": "code",
   "execution_count": 40,
   "id": "85c2f27f",
   "metadata": {},
   "outputs": [],
   "source": [
    "#naive bayes\n",
    "from sklearn.naive_bayes import GaussianNB"
   ]
  },
  {
   "cell_type": "code",
   "execution_count": 41,
   "id": "0f31bc3f",
   "metadata": {},
   "outputs": [
    {
     "name": "stdout",
     "output_type": "stream",
     "text": [
      "{'estimator__priors': None, 'estimator__var_smoothing': 1.0}\n"
     ]
    }
   ],
   "source": [
    "model_to_set = OneVsRestClassifier(GaussianNB())\n",
    "parameters = {\n",
    "    \"estimator__priors\": [None, [0.33, 0.33, 0.33]],\n",
    "    \"estimator__var_smoothing\": np.logspace(0, -9, num=100)\n",
    "}\n",
    "scoring = {'AUC': 'roc_auc', 'F1': 'f1_weighted'}\n",
    "n_folds=5\n",
    "n_repeats=5\n",
    "rskfold = RepeatedStratifiedKFold(n_splits=n_folds, n_repeats=n_repeats, random_state=42)\n",
    "\n",
    "model_tunning = GridSearchCV(model_to_set, param_grid=parameters, cv=rskfold,\n",
    "                             scoring=scoring,refit='AUC')\n",
    "model_tunning.fit(X_train_scaled, y_train)\n",
    "print(model_tunning.best_params_)"
   ]
  },
  {
   "cell_type": "code",
   "execution_count": 42,
   "id": "9f120c50",
   "metadata": {},
   "outputs": [
    {
     "name": "stdout",
     "output_type": "stream",
     "text": [
      "GridSearchCV + multiple scorers + RepeatedStratifiedKFold\n",
      "================================================================================\n",
      "best estimator: OneVsRestClassifier(estimator=GaussianNB(var_smoothing=1.0))\n",
      "best params: {'estimator__priors': None, 'estimator__var_smoothing': 1.0}\n",
      "================================================================================\n"
     ]
    }
   ],
   "source": [
    "results = model_tunning.cv_results_\n",
    "print('GridSearchCV + multiple scorers + RepeatedStratifiedKFold')\n",
    "print('='*80)\n",
    "print(\"best estimator: \" + str(model_tunning.best_estimator_))\n",
    "print(\"best params: \" + str(model_tunning.best_params_))\n",
    "print('='*80)"
   ]
  },
  {
   "cell_type": "code",
   "execution_count": 43,
   "id": "c4f53d59",
   "metadata": {},
   "outputs": [
    {
     "name": "stdout",
     "output_type": "stream",
     "text": [
      "Learning time: 0.022235449999982393\n"
     ]
    }
   ],
   "source": [
    "import timeit\n",
    "model_to_set = OneVsRestClassifier(GaussianNB(var_smoothing=1.0, priors = None))\n",
    "starttime = timeit.default_timer()\n",
    "model_to_set.fit(X_train_scaled,y_train)\n",
    "ovr_nb_time = timeit.default_timer() - starttime\n",
    "print(\"Learning time:\", ovr_nb_time)\n",
    "predict = model_to_set.predict(X_test_scaled)\n",
    "predict_proba = model_to_set.predict_proba(X_test_scaled)[:,1]"
   ]
  },
  {
   "cell_type": "code",
   "execution_count": 44,
   "id": "c88ae7c3",
   "metadata": {},
   "outputs": [],
   "source": [
    "predict_0 = [1 if y == 0 else 0 for y in predict] \n",
    "predict_1 = [1 if y == 1 else 0 for y in predict] \n",
    "predict_2 = [1 if y == 2 else 0 for y in predict] \n",
    "predicts = [predict_0,predict_1,predict_2]\n",
    "y_test_0 = [1 if y == 0 else 0 for y in y_test] \n",
    "y_test_1 = [1 if y == 1 else 0 for y in y_test] \n",
    "y_test_2 = [1 if y == 2 else 0 for y in y_test] \n",
    "y_tests = [y_test_0,y_test_1,y_test_2]"
   ]
  },
  {
   "cell_type": "code",
   "execution_count": 45,
   "id": "3cfface6",
   "metadata": {},
   "outputs": [],
   "source": [
    "from sklearn.metrics import roc_auc_score\n",
    "model_scores = np.zeros(3)\n",
    "for i in range (0,3):\n",
    "    model_scores[i] = roc_auc_score(y_tests[i],predicts[i])"
   ]
  },
  {
   "cell_type": "code",
   "execution_count": 46,
   "id": "ca624ae3",
   "metadata": {},
   "outputs": [],
   "source": [
    "ovr_nb_auc = model_scores.mean()\n",
    "ovr_nb_r2 = r2_score(y_test,predict)"
   ]
  },
  {
   "cell_type": "code",
   "execution_count": 47,
   "id": "e4768394",
   "metadata": {},
   "outputs": [
    {
     "name": "stdout",
     "output_type": "stream",
     "text": [
      "Train/Test split results:\n",
      "GaussianNB accuracy is 0.113\n",
      "GaussianNB log_loss is 20.484\n",
      "GaussianNB auc is 0.386\n",
      "Train/Test split results:\n",
      "GaussianNB accuracy is 0.700\n",
      "GaussianNB log_loss is 1.025\n",
      "GaussianNB auc is 0.954\n",
      "Train/Test split results:\n",
      "GaussianNB accuracy is 0.433\n",
      "GaussianNB log_loss is 16.222\n",
      "GaussianNB auc is 0.064\n"
     ]
    },
    {
     "data": {
      "text/plain": [
       "<Figure size 640x480 with 0 Axes>"
      ]
     },
     "metadata": {},
     "output_type": "display_data"
    },
    {
     "data": {
      "image/png": "[encoded data removed]",
      "text/plain": [
       "<Figure size 2400x1800 with 3 Axes>"
      ]
     },
     "metadata": {},
     "output_type": "display_data"
    }
   ],
   "source": [
    "plt.figure()\n",
    "plt.figure(figsize=(24, 18))\n",
    "plt.suptitle(\"Roc curves\", fontsize=24)\n",
    "plt.subplots_adjust(wspace = 0.1, hspace= 0.1)\n",
    "\n",
    "for i in range(0,len(model_to_set.classes_)):\n",
    "    [fpr, tpr, thr] = roc_curve(y_tests[i], predict_proba)\n",
    "    print('Train/Test split results:')\n",
    "    print(GaussianNB().__class__.__name__+\" accuracy is %2.3f\" % accuracy_score(y_tests[i], predict))\n",
    "    print(GaussianNB().__class__.__name__+\" log_loss is %2.3f\" % log_loss(y_tests[i], predict_proba))\n",
    "    print(GaussianNB().__class__.__name__+\" auc is %2.3f\" % auc(fpr, tpr))\n",
    "    idx = np.min(np.where(tpr > 0.95))\n",
    "    plt.subplot(1,3,i+1)\n",
    "    plt.title(f\"Roc curve{i}\")\n",
    "    plt.plot(fpr, tpr, color='coral', label='ROC curve (area = %0.3f)' % auc(fpr, tpr))\n",
    "    plt.plot([0, 2], [0, 2], 'k--')\n",
    "    plt.plot([0,fpr[idx]], [tpr[idx],tpr[idx]], 'k--', color='blue')\n",
    "    plt.plot([fpr[idx],fpr[idx]], [0,tpr[idx]], 'k--', color='blue')\n",
    "    plt.xlim([0.0, 1.2])\n",
    "    plt.ylim([0.0, 1.2])\n",
    "    plt.xlabel('False Positive Rate (1 - specificity)', fontsize=14)\n",
    "    plt.ylabel('True Positive Rate (recall)', fontsize=14)\n",
    "    plt.title(f'Receiver operating characteristic (ROC) curve {i}')\n",
    "    plt.legend(loc=\"lower right\")\n",
    "plt.show()"
   ]
  },
  {
   "cell_type": "code",
   "execution_count": 48,
   "id": "69036648",
   "metadata": {},
   "outputs": [],
   "source": [
    "#dtc\n",
    "from sklearn.tree import DecisionTreeClassifier"
   ]
  },
  {
   "cell_type": "code",
   "execution_count": 49,
   "id": "a177a019",
   "metadata": {},
   "outputs": [
    {
     "name": "stdout",
     "output_type": "stream",
     "text": [
      "{'estimator__criterion': 'gini', 'estimator__max_depth': 2, 'estimator__min_samples_leaf': 1, 'estimator__min_samples_split': 2, 'estimator__splitter': 'best'}\n"
     ]
    }
   ],
   "source": [
    "model_to_set = OneVsRestClassifier(DecisionTreeClassifier(random_state=81))\n",
    "parameters = {\n",
    "    \"estimator__criterion\": [\"gini\", \"entropy\", \"log_loss\"],\n",
    "    \"estimator__splitter\": [\"best\", \"random\"],\n",
    "    \"estimator__max_depth\": [2, 3, 4, 5, 6, 7, 8, 9],\n",
    "    \"estimator__min_samples_split\": [2, 4, 6, 10],\n",
    "    \"estimator__min_samples_leaf\": [1, 2, 4, 6, 8, 10, 12],\n",
    "}\n",
    "scoring = {'AUC': 'roc_auc', 'F1': 'f1_weighted'}\n",
    "n_folds=5\n",
    "n_repeats=5\n",
    "rskfold = RepeatedStratifiedKFold(n_splits=n_folds, n_repeats=n_repeats, random_state=42)\n",
    "\n",
    "model_tunning = GridSearchCV(model_to_set, param_grid=parameters, cv=rskfold,\n",
    "                             scoring=scoring,refit='AUC')\n",
    "model_tunning.fit(X_train_scaled, y_train)\n",
    "print(model_tunning.best_params_)"
   ]
  },
  {
   "cell_type": "code",
   "execution_count": 50,
   "id": "1aacee86",
   "metadata": {},
   "outputs": [
    {
     "name": "stdout",
     "output_type": "stream",
     "text": [
      "GridSearchCV + multiple scorers + RepeatedStratifiedKFold\n",
      "================================================================================\n",
      "best estimator: OneVsRestClassifier(estimator=DecisionTreeClassifier(max_depth=2,\n",
      "                                                     random_state=81))\n",
      "best params: {'estimator__criterion': 'gini', 'estimator__max_depth': 2, 'estimator__min_samples_leaf': 1, 'estimator__min_samples_split': 2, 'estimator__splitter': 'best'}\n",
      "================================================================================\n"
     ]
    }
   ],
   "source": [
    "results = model_tunning.cv_results_\n",
    "print('GridSearchCV + multiple scorers + RepeatedStratifiedKFold')\n",
    "print('='*80)\n",
    "print(\"best estimator: \" + str(model_tunning.best_estimator_))\n",
    "print(\"best params: \" + str(model_tunning.best_params_))\n",
    "print('='*80)"
   ]
  },
  {
   "cell_type": "code",
   "execution_count": 51,
   "id": "698a2c40",
   "metadata": {},
   "outputs": [
    {
     "name": "stdout",
     "output_type": "stream",
     "text": [
      "Learning time: 0.02161167999997815\n"
     ]
    }
   ],
   "source": [
    "import timeit\n",
    "model_to_set = OneVsRestClassifier(DecisionTreeClassifier(max_depth=2,random_state=81,\n",
    "criterion='gini',min_samples_leaf=1,min_samples_split=2,splitter='best'))\n",
    "starttime = timeit.default_timer()\n",
    "model_to_set.fit(X_train_scaled,y_train)\n",
    "ovr_dtc_time = timeit.default_timer() - starttime\n",
    "print(\"Learning time:\", ovr_dtc_time)\n",
    "predict = model_to_set.predict(X_test_scaled)\n",
    "predict_proba = model_to_set.predict_proba(X_test_scaled)[:,1]"
   ]
  },
  {
   "cell_type": "code",
   "execution_count": 52,
   "id": "1a3ca7d9",
   "metadata": {},
   "outputs": [],
   "source": [
    "predict_0 = [1 if y == 0 else 0 for y in predict] \n",
    "predict_1 = [1 if y == 1 else 0 for y in predict] \n",
    "predict_2 = [1 if y == 2 else 0 for y in predict] \n",
    "predicts = [predict_0,predict_1,predict_2]\n",
    "y_test_0 = [1 if y == 0 else 0 for y in y_test] \n",
    "y_test_1 = [1 if y == 1 else 0 for y in y_test] \n",
    "y_test_2 = [1 if y == 2 else 0 for y in y_test] \n",
    "y_tests = [y_test_0,y_test_1,y_test_2]"
   ]
  },
  {
   "cell_type": "code",
   "execution_count": 53,
   "id": "bcdd1a11",
   "metadata": {},
   "outputs": [],
   "source": [
    "from sklearn.metrics import roc_auc_score\n",
    "model_scores = np.zeros(3)\n",
    "for i in range (0,3):\n",
    "    model_scores[i] = roc_auc_score(y_tests[i],predicts[i])"
   ]
  },
  {
   "cell_type": "code",
   "execution_count": 54,
   "id": "e24af67b",
   "metadata": {},
   "outputs": [],
   "source": [
    "ovr_dtc_auc = model_scores.mean()\n",
    "ovr_dtc_r2 = r2_score(y_test,predict)"
   ]
  },
  {
   "cell_type": "code",
   "execution_count": 55,
   "id": "08865804",
   "metadata": {},
   "outputs": [
    {
     "name": "stdout",
     "output_type": "stream",
     "text": [
      "Train/Test split results:\n",
      "DecisionTreeClassifier accuracy is 0.000\n",
      "DecisionTreeClassifier log_loss is 19.783\n",
      "DecisionTreeClassifier auc is 0.193\n",
      "Train/Test split results:\n",
      "DecisionTreeClassifier accuracy is 0.820\n",
      "DecisionTreeClassifier log_loss is 0.002\n",
      "DecisionTreeClassifier auc is 1.000\n",
      "Train/Test split results:\n",
      "DecisionTreeClassifier accuracy is 0.533\n",
      "DecisionTreeClassifier log_loss is 7.580\n",
      "DecisionTreeClassifier auc is 0.325\n"
     ]
    },
    {
     "data": {
      "text/plain": [
       "<Figure size 640x480 with 0 Axes>"
      ]
     },
     "metadata": {},
     "output_type": "display_data"
    },
    {
     "data": {
      "image/png": "[encoded data removed]",
      "text/plain": [
       "<Figure size 2400x1800 with 3 Axes>"
      ]
     },
     "metadata": {},
     "output_type": "display_data"
    }
   ],
   "source": [
    "plt.figure()\n",
    "plt.figure(figsize=(24, 18))\n",
    "plt.suptitle(\"Roc curves\", fontsize=24)\n",
    "plt.subplots_adjust(wspace = 0.1, hspace= 0.1)\n",
    "\n",
    "for i in range(0,len(model_to_set.classes_)):\n",
    "    [fpr, tpr, thr] = roc_curve(y_tests[i], predict_proba)\n",
    "    print('Train/Test split results:')\n",
    "    print(DecisionTreeClassifier().__class__.__name__+\" accuracy is %2.3f\" % accuracy_score(y_tests[i], predict))\n",
    "    print(DecisionTreeClassifier().__class__.__name__+\" log_loss is %2.3f\" % log_loss(y_tests[i], predict_proba))\n",
    "    print(DecisionTreeClassifier().__class__.__name__+\" auc is %2.3f\" % auc(fpr, tpr))\n",
    "    idx = np.min(np.where(tpr > 0.95))\n",
    "    plt.subplot(1,3,i+1)\n",
    "    plt.title(f\"Roc curve{i}\")\n",
    "    plt.plot(fpr, tpr, color='coral', label='ROC curve (area = %0.3f)' % auc(fpr, tpr))\n",
    "    plt.plot([0, 2], [0, 2], 'k--')\n",
    "    plt.plot([0,fpr[idx]], [tpr[idx],tpr[idx]], 'k--', color='blue')\n",
    "    plt.plot([fpr[idx],fpr[idx]], [0,tpr[idx]], 'k--', color='blue')\n",
    "    plt.xlim([0.0, 1.2])\n",
    "    plt.ylim([0.0, 1.2])\n",
    "    plt.xlabel('False Positive Rate (1 - specificity)', fontsize=14)\n",
    "    plt.ylabel('True Positive Rate (recall)', fontsize=14)\n",
    "    plt.title(f'Receiver operating characteristic (ROC) curve {i}')\n",
    "    plt.legend(loc=\"lower right\")\n",
    "plt.show()"
   ]
  },
  {
   "cell_type": "markdown",
   "id": "c67b6b5d",
   "metadata": {},
   "source": [
    "# ovo_classifier"
   ]
  },
  {
   "cell_type": "code",
   "execution_count": 56,
   "id": "b8390b71",
   "metadata": {},
   "outputs": [],
   "source": [
    "#lr"
   ]
  },
  {
   "cell_type": "code",
   "execution_count": 57,
   "id": "dcb54b63",
   "metadata": {},
   "outputs": [],
   "source": [
    "from sklearn.multiclass import OneVsOneClassifier"
   ]
  },
  {
   "cell_type": "code",
   "execution_count": 58,
   "id": "f8a78391",
   "metadata": {},
   "outputs": [
    {
     "name": "stdout",
     "output_type": "stream",
     "text": [
      "{'estimator__C': 1e-15}\n"
     ]
    }
   ],
   "source": [
    "model_to_set = OneVsOneClassifier(LogisticRegression(random_state=11))\n",
    "\n",
    "parameters = {\n",
    "    \"estimator__C\": np.arange(1e-15, 1, 0.01)\n",
    "}\n",
    "scoring = {'AUC': 'roc_auc', 'F1': 'f1_weighted'}\n",
    "n_folds=5\n",
    "n_repeats=5\n",
    "rskfold = RepeatedStratifiedKFold(n_splits=n_folds, n_repeats=n_repeats, random_state=42)\n",
    "model_tunning = GridSearchCV(model_to_set, param_grid=parameters, cv=rskfold,\n",
    "                             scoring=scoring,refit='AUC')\n",
    "model_tunning.fit(X_train_scaled, y_train)\n",
    "print(model_tunning.best_params_)"
   ]
  },
  {
   "cell_type": "code",
   "execution_count": 59,
   "id": "73b4baa6",
   "metadata": {},
   "outputs": [
    {
     "name": "stdout",
     "output_type": "stream",
     "text": [
      "GridSearchCV + multiple scorers + RepeatedStratifiedKFold\n",
      "================================================================================\n",
      "best estimator: OneVsOneClassifier(estimator=LogisticRegression(C=1e-15, random_state=11))\n",
      "best params: {'estimator__C': 1e-15}\n",
      "================================================================================\n"
     ]
    }
   ],
   "source": [
    "results = model_tunning.cv_results_\n",
    "print('GridSearchCV + multiple scorers + RepeatedStratifiedKFold')\n",
    "print('='*80)\n",
    "print(\"best estimator: \" + str(model_tunning.best_estimator_))\n",
    "print(\"best params: \" + str(model_tunning.best_params_))\n",
    "print('='*80)"
   ]
  },
  {
   "cell_type": "code",
   "execution_count": 60,
   "id": "0792c320",
   "metadata": {},
   "outputs": [
    {
     "name": "stdout",
     "output_type": "stream",
     "text": [
      "Learning time: 0.017437403000030827\n"
     ]
    }
   ],
   "source": [
    "import timeit\n",
    "model_to_set = OneVsOneClassifier(LogisticRegression(random_state=11, C=1e-15))\n",
    "starttime = timeit.default_timer()\n",
    "model_to_set.fit(X_train_scaled,y_train)\n",
    "ovo_lr_time = timeit.default_timer() - starttime\n",
    "print(\"Learning time:\", ovo_lr_time)\n",
    "predict = model_to_set.predict(X_test_scaled)"
   ]
  },
  {
   "cell_type": "code",
   "execution_count": 61,
   "id": "c7bf285e",
   "metadata": {},
   "outputs": [
    {
     "data": {
      "text/plain": [
       "array([0, 1, 2])"
      ]
     },
     "execution_count": 61,
     "metadata": {},
     "output_type": "execute_result"
    }
   ],
   "source": [
    "model_to_set.classes_"
   ]
  },
  {
   "cell_type": "code",
   "execution_count": 62,
   "id": "5222068d",
   "metadata": {},
   "outputs": [],
   "source": [
    "predict_0 = [1 if y == 0 else 0 for y in predict] \n",
    "predict_1 = [1 if y == 1 else 0 for y in predict] \n",
    "predict_2 = [1 if y == 2 else 0 for y in predict] \n",
    "predicts = [predict_0,predict_1,predict_2]"
   ]
  },
  {
   "cell_type": "code",
   "execution_count": 63,
   "id": "af8f94f1",
   "metadata": {},
   "outputs": [],
   "source": [
    "y_test_0 = [1 if y == 0 else 0 for y in y_test] \n",
    "y_test_1 = [1 if y == 1 else 0 for y in y_test] \n",
    "y_test_2 = [1 if y == 2 else 0 for y in y_test] \n",
    "y_tests = [y_test_0,y_test_1,y_test_2]"
   ]
  },
  {
   "cell_type": "code",
   "execution_count": 64,
   "id": "d0633df4",
   "metadata": {},
   "outputs": [],
   "source": [
    "from sklearn.metrics import roc_auc_score\n",
    "model_scores = np.zeros(3)\n",
    "for i in range (0,3):\n",
    "    model_scores[i] = roc_auc_score(y_tests[i],predicts[i])"
   ]
  },
  {
   "cell_type": "code",
   "execution_count": 65,
   "id": "995660ff",
   "metadata": {},
   "outputs": [],
   "source": [
    "ovo_lr_auc = model_scores.mean()\n",
    "ovo_lr_r2 = r2_score(y_test,predict)"
   ]
  },
  {
   "cell_type": "code",
   "execution_count": 66,
   "id": "1cdd3d9a",
   "metadata": {},
   "outputs": [],
   "source": [
    "#svm\n",
    "from sklearn.svm import SVC"
   ]
  },
  {
   "cell_type": "code",
   "execution_count": 67,
   "id": "6355bd7b",
   "metadata": {},
   "outputs": [
    {
     "name": "stdout",
     "output_type": "stream",
     "text": [
      "{'estimator__C': 0.1, 'estimator__gamma': 'scale', 'estimator__kernel': 'linear'}\n"
     ]
    }
   ],
   "source": [
    "model_to_set = OneVsOneClassifier(SVC(random_state=11))\n",
    "\n",
    "parameters = {\n",
    "    \"estimator__C\": [0.1, 0.25, 0.5, 0.75, 1, 2],\n",
    "    \"estimator__kernel\": [\"linear\", \"rbf\"],\n",
    "    \"estimator__gamma\": [\"scale\", \"auto\", 0.0001, 0.001, 0.01, 0.1, 1]\n",
    "}\n",
    "scoring = {'AUC': 'roc_auc', 'F1': 'f1_weighted'}\n",
    "n_folds=5\n",
    "n_repeats=5\n",
    "rskfold = RepeatedStratifiedKFold(n_splits=n_folds, n_repeats=n_repeats, random_state=42)\n",
    "\n",
    "model_tunning = GridSearchCV(model_to_set, param_grid=parameters, cv=rskfold,\n",
    "                             scoring=scoring,refit='AUC')\n",
    "model_tunning.fit(X_train_scaled, y_train)\n",
    "print(model_tunning.best_params_)"
   ]
  },
  {
   "cell_type": "code",
   "execution_count": 68,
   "id": "2cbf040d",
   "metadata": {},
   "outputs": [
    {
     "name": "stdout",
     "output_type": "stream",
     "text": [
      "GridSearchCV + multiple scorers + RepeatedStratifiedKFold\n",
      "================================================================================\n",
      "best estimator: OneVsOneClassifier(estimator=SVC(C=0.1, kernel='linear', random_state=11))\n",
      "best params: {'estimator__C': 0.1, 'estimator__gamma': 'scale', 'estimator__kernel': 'linear'}\n",
      "================================================================================\n"
     ]
    }
   ],
   "source": [
    "results = model_tunning.cv_results_\n",
    "print('GridSearchCV + multiple scorers + RepeatedStratifiedKFold')\n",
    "print('='*80)\n",
    "print(\"best estimator: \" + str(model_tunning.best_estimator_))\n",
    "print(\"best params: \" + str(model_tunning.best_params_))\n",
    "print('='*80)"
   ]
  },
  {
   "cell_type": "code",
   "execution_count": 69,
   "id": "ee698db5",
   "metadata": {},
   "outputs": [
    {
     "name": "stdout",
     "output_type": "stream",
     "text": [
      "Learning time: 0.026644187000101738\n"
     ]
    }
   ],
   "source": [
    "import timeit\n",
    "model_to_set = OneVsOneClassifier(SVC(random_state=11,C=0.1,gamma='scale',kernel='linear'))\n",
    "starttime = timeit.default_timer()\n",
    "model_to_set.fit(X_train_scaled,y_train)\n",
    "ovo_svc_time = timeit.default_timer() - starttime\n",
    "print(\"Learning time:\", ovo_svc_time)\n",
    "predict = model_to_set.predict(X_test_scaled)"
   ]
  },
  {
   "cell_type": "code",
   "execution_count": 70,
   "id": "7c48d35e",
   "metadata": {},
   "outputs": [],
   "source": [
    "predict_0 = [1 if y == 0 else 0 for y in predict] \n",
    "predict_1 = [1 if y == 1 else 0 for y in predict] \n",
    "predict_2 = [1 if y == 2 else 0 for y in predict] \n",
    "predicts = [predict_0,predict_1,predict_2]\n",
    "y_test_0 = [1 if y == 0 else 0 for y in y_test] \n",
    "y_test_1 = [1 if y == 1 else 0 for y in y_test] \n",
    "y_test_2 = [1 if y == 2 else 0 for y in y_test] \n",
    "y_tests = [y_test_0,y_test_1,y_test_2]"
   ]
  },
  {
   "cell_type": "code",
   "execution_count": 71,
   "id": "95b31a28",
   "metadata": {},
   "outputs": [],
   "source": [
    "from sklearn.metrics import roc_auc_score\n",
    "model_scores = np.zeros(3)\n",
    "for i in range (0,3):\n",
    "    model_scores[i] = roc_auc_score(y_tests[i],predicts[i])"
   ]
  },
  {
   "cell_type": "code",
   "execution_count": 72,
   "id": "6db2b99c",
   "metadata": {},
   "outputs": [],
   "source": [
    "ovo_svc_auc = model_scores.mean()\n",
    "ovo_svc_r2 = r2_score(y_test,predict)"
   ]
  },
  {
   "cell_type": "code",
   "execution_count": 73,
   "id": "eb59b209",
   "metadata": {},
   "outputs": [],
   "source": [
    "#knn\n",
    "from sklearn.neighbors import KNeighborsClassifier"
   ]
  },
  {
   "cell_type": "code",
   "execution_count": 74,
   "id": "ee3e2149",
   "metadata": {},
   "outputs": [
    {
     "name": "stdout",
     "output_type": "stream",
     "text": [
      "{'estimator__n_neighbors': 1, 'estimator__weights': 'uniform'}\n"
     ]
    }
   ],
   "source": [
    "model_to_set = OneVsOneClassifier(KNeighborsClassifier())\n",
    "parameters = {\n",
    "    \"estimator__n_neighbors\": np.arange(1, 11, 2),\n",
    "    \"estimator__weights\": ['uniform', 'distance']\n",
    "}\n",
    "scoring = {'AUC': 'roc_auc', 'F1': 'f1_weighted'}\n",
    "n_folds=5\n",
    "n_repeats=5\n",
    "rskfold = RepeatedStratifiedKFold(n_splits=n_folds, n_repeats=n_repeats, random_state=42)\n",
    "\n",
    "model_tunning = GridSearchCV(model_to_set, param_grid=parameters, cv=rskfold,\n",
    "                             scoring=scoring,refit='AUC')\n",
    "model_tunning.fit(X_train_scaled, y_train)\n",
    "print(model_tunning.best_params_)"
   ]
  },
  {
   "cell_type": "code",
   "execution_count": 75,
   "id": "b2bb05a2",
   "metadata": {},
   "outputs": [
    {
     "name": "stdout",
     "output_type": "stream",
     "text": [
      "GridSearchCV + multiple scorers + RepeatedStratifiedKFold\n",
      "================================================================================\n",
      "best estimator: OneVsOneClassifier(estimator=KNeighborsClassifier(n_neighbors=1))\n",
      "best params: {'estimator__n_neighbors': 1, 'estimator__weights': 'uniform'}\n",
      "================================================================================\n"
     ]
    }
   ],
   "source": [
    "results = model_tunning.cv_results_\n",
    "print('GridSearchCV + multiple scorers + RepeatedStratifiedKFold')\n",
    "print('='*80)\n",
    "print(\"best estimator: \" + str(model_tunning.best_estimator_))\n",
    "print(\"best params: \" + str(model_tunning.best_params_))\n",
    "print('='*80)"
   ]
  },
  {
   "cell_type": "code",
   "execution_count": 76,
   "id": "4e399abc",
   "metadata": {},
   "outputs": [
    {
     "name": "stdout",
     "output_type": "stream",
     "text": [
      "Learning time: 0.00973106200001439\n"
     ]
    }
   ],
   "source": [
    "import timeit\n",
    "model_to_set = OneVsOneClassifier(KNeighborsClassifier(n_neighbors=1, weights='uniform'))\n",
    "starttime = timeit.default_timer()\n",
    "model_to_set.fit(X_train_scaled,y_train)\n",
    "ovo_knn_time = timeit.default_timer() - starttime\n",
    "print(\"Learning time:\", ovo_knn_time)\n",
    "predict = model_to_set.predict(X_test_scaled)"
   ]
  },
  {
   "cell_type": "code",
   "execution_count": 77,
   "id": "14058283",
   "metadata": {},
   "outputs": [],
   "source": [
    "predict_0 = [1 if y == 0 else 0 for y in predict] \n",
    "predict_1 = [1 if y == 1 else 0 for y in predict] \n",
    "predict_2 = [1 if y == 2 else 0 for y in predict] \n",
    "predicts = [predict_0,predict_1,predict_2]\n",
    "y_test_0 = [1 if y == 0 else 0 for y in y_test] \n",
    "y_test_1 = [1 if y == 1 else 0 for y in y_test] \n",
    "y_test_2 = [1 if y == 2 else 0 for y in y_test] \n",
    "y_tests = [y_test_0,y_test_1,y_test_2]"
   ]
  },
  {
   "cell_type": "code",
   "execution_count": 78,
   "id": "da06ac04",
   "metadata": {},
   "outputs": [],
   "source": [
    "from sklearn.metrics import roc_auc_score\n",
    "model_scores = np.zeros(3)\n",
    "for i in range (0,3):\n",
    "    model_scores[i] = roc_auc_score(y_tests[i],predicts[i])"
   ]
  },
  {
   "cell_type": "code",
   "execution_count": 79,
   "id": "19943c9c",
   "metadata": {},
   "outputs": [],
   "source": [
    "ovo_knn_auc = model_scores.mean()\n",
    "ovo_knn_r2 = r2_score(y_test,predict)"
   ]
  },
  {
   "cell_type": "code",
   "execution_count": 80,
   "id": "6fde237a",
   "metadata": {},
   "outputs": [],
   "source": [
    "#naive bayes\n",
    "from sklearn.naive_bayes import GaussianNB"
   ]
  },
  {
   "cell_type": "code",
   "execution_count": 81,
   "id": "31932f17",
   "metadata": {},
   "outputs": [
    {
     "name": "stdout",
     "output_type": "stream",
     "text": [
      "{'estimator__priors': None, 'estimator__var_smoothing': 1.0}\n"
     ]
    }
   ],
   "source": [
    "model_to_set = OneVsOneClassifier(GaussianNB())\n",
    "parameters = {\n",
    "    \"estimator__priors\": [None, [0.33, 0.33, 0.33]],\n",
    "    \"estimator__var_smoothing\": np.logspace(0, -9, num=100)\n",
    "}\n",
    "scoring = {'AUC': 'roc_auc', 'F1': 'f1_weighted'}\n",
    "n_folds=5\n",
    "n_repeats=5\n",
    "rskfold = RepeatedStratifiedKFold(n_splits=n_folds, n_repeats=n_repeats, random_state=42)\n",
    "\n",
    "model_tunning = GridSearchCV(model_to_set, param_grid=parameters, cv=rskfold,\n",
    "                             scoring=scoring,refit='AUC')\n",
    "model_tunning.fit(X_train_scaled, y_train)\n",
    "print(model_tunning.best_params_)"
   ]
  },
  {
   "cell_type": "code",
   "execution_count": 82,
   "id": "911f8ff8",
   "metadata": {
    "scrolled": true
   },
   "outputs": [
    {
     "name": "stdout",
     "output_type": "stream",
     "text": [
      "GridSearchCV + multiple scorers + RepeatedStratifiedKFold\n",
      "================================================================================\n",
      "best estimator: OneVsOneClassifier(estimator=GaussianNB(var_smoothing=1.0))\n",
      "best params: {'estimator__priors': None, 'estimator__var_smoothing': 1.0}\n",
      "================================================================================\n"
     ]
    }
   ],
   "source": [
    "results = model_tunning.cv_results_\n",
    "print('GridSearchCV + multiple scorers + RepeatedStratifiedKFold')\n",
    "print('='*80)\n",
    "print(\"best estimator: \" + str(model_tunning.best_estimator_))\n",
    "print(\"best params: \" + str(model_tunning.best_params_))\n",
    "print('='*80)"
   ]
  },
  {
   "cell_type": "code",
   "execution_count": 83,
   "id": "db06fbca",
   "metadata": {},
   "outputs": [
    {
     "name": "stdout",
     "output_type": "stream",
     "text": [
      "Learning time: 0.015653799000006074\n"
     ]
    }
   ],
   "source": [
    "import timeit\n",
    "model_to_set = OneVsOneClassifier(GaussianNB(var_smoothing=1.0, priors = None))\n",
    "starttime = timeit.default_timer()\n",
    "model_to_set.fit(X_train_scaled,y_train)\n",
    "ovo_nb_time = timeit.default_timer() - starttime\n",
    "print(\"Learning time:\", ovo_nb_time)\n",
    "predict = model_to_set.predict(X_test_scaled)"
   ]
  },
  {
   "cell_type": "code",
   "execution_count": 84,
   "id": "06e560e5",
   "metadata": {},
   "outputs": [],
   "source": [
    "predict_0 = [1 if y == 0 else 0 for y in predict] \n",
    "predict_1 = [1 if y == 1 else 0 for y in predict] \n",
    "predict_2 = [1 if y == 2 else 0 for y in predict] \n",
    "predicts = [predict_0,predict_1,predict_2]\n",
    "y_test_0 = [1 if y == 0 else 0 for y in y_test] \n",
    "y_test_1 = [1 if y == 1 else 0 for y in y_test] \n",
    "y_test_2 = [1 if y == 2 else 0 for y in y_test] \n",
    "y_tests = [y_test_0,y_test_1,y_test_2]"
   ]
  },
  {
   "cell_type": "code",
   "execution_count": 85,
   "id": "3b80d6d5",
   "metadata": {},
   "outputs": [],
   "source": [
    "from sklearn.metrics import roc_auc_score\n",
    "model_scores = np.zeros(3)\n",
    "for i in range (0,3):\n",
    "    model_scores[i] = roc_auc_score(y_tests[i],predicts[i])"
   ]
  },
  {
   "cell_type": "code",
   "execution_count": 86,
   "id": "a2efa13f",
   "metadata": {},
   "outputs": [],
   "source": [
    "ovo_nb_auc = model_scores.mean()\n",
    "ovo_nb_r2 = r2_score(y_test,predict)"
   ]
  },
  {
   "cell_type": "code",
   "execution_count": 87,
   "id": "526aac12",
   "metadata": {},
   "outputs": [],
   "source": [
    "#dtc\n",
    "from sklearn.tree import DecisionTreeClassifier"
   ]
  },
  {
   "cell_type": "code",
   "execution_count": 88,
   "id": "f69bbe4c",
   "metadata": {},
   "outputs": [
    {
     "name": "stdout",
     "output_type": "stream",
     "text": [
      "{'estimator__criterion': 'gini', 'estimator__max_depth': 2, 'estimator__min_samples_leaf': 1, 'estimator__min_samples_split': 2, 'estimator__splitter': 'best'}\n"
     ]
    }
   ],
   "source": [
    "model_to_set = OneVsOneClassifier(DecisionTreeClassifier(random_state=81))\n",
    "parameters = {\n",
    "    \"estimator__criterion\": [\"gini\", \"entropy\", \"log_loss\"],\n",
    "    \"estimator__splitter\": [\"best\", \"random\"],\n",
    "    \"estimator__max_depth\": [2, 3, 4, 5, 6, 7, 8, 9],\n",
    "    \"estimator__min_samples_split\": [2, 4, 6, 10],\n",
    "    \"estimator__min_samples_leaf\": [1, 2, 4, 6, 8, 10, 12],\n",
    "}\n",
    "scoring = {'AUC': 'roc_auc', 'F1': 'f1_weighted'}\n",
    "n_folds=5\n",
    "n_repeats=5\n",
    "rskfold = RepeatedStratifiedKFold(n_splits=n_folds, n_repeats=n_repeats, random_state=42)\n",
    "\n",
    "model_tunning = GridSearchCV(model_to_set, param_grid=parameters, cv=rskfold,\n",
    "                             scoring=scoring,refit='AUC')\n",
    "model_tunning.fit(X_train_scaled, y_train)\n",
    "print(model_tunning.best_params_)"
   ]
  },
  {
   "cell_type": "code",
   "execution_count": 89,
   "id": "7660cf18",
   "metadata": {},
   "outputs": [
    {
     "name": "stdout",
     "output_type": "stream",
     "text": [
      "GridSearchCV + multiple scorers + RepeatedStratifiedKFold\n",
      "================================================================================\n",
      "best estimator: OneVsOneClassifier(estimator=DecisionTreeClassifier(max_depth=2,\n",
      "                                                    random_state=81))\n",
      "best params: {'estimator__criterion': 'gini', 'estimator__max_depth': 2, 'estimator__min_samples_leaf': 1, 'estimator__min_samples_split': 2, 'estimator__splitter': 'best'}\n",
      "================================================================================\n"
     ]
    }
   ],
   "source": [
    "results = model_tunning.cv_results_\n",
    "print('GridSearchCV + multiple scorers + RepeatedStratifiedKFold')\n",
    "print('='*80)\n",
    "print(\"best estimator: \" + str(model_tunning.best_estimator_))\n",
    "print(\"best params: \" + str(model_tunning.best_params_))\n",
    "print('='*80)"
   ]
  },
  {
   "cell_type": "code",
   "execution_count": 90,
   "id": "6e6b88fa",
   "metadata": {},
   "outputs": [
    {
     "name": "stdout",
     "output_type": "stream",
     "text": [
      "Learning time: 0.019352521999962846\n"
     ]
    }
   ],
   "source": [
    "import timeit\n",
    "model_to_set = OneVsOneClassifier(DecisionTreeClassifier(max_depth=2,random_state=81,\n",
    "criterion='gini',min_samples_leaf=1,min_samples_split=2,splitter='best'))\n",
    "starttime = timeit.default_timer()\n",
    "model_to_set.fit(X_train_scaled,y_train)\n",
    "ovo_dtc_time = timeit.default_timer() - starttime\n",
    "print(\"Learning time:\", ovo_dtc_time)\n",
    "predict = model_to_set.predict(X_test_scaled)"
   ]
  },
  {
   "cell_type": "code",
   "execution_count": 91,
   "id": "5f359ac0",
   "metadata": {},
   "outputs": [],
   "source": [
    "predict_0 = [1 if y == 0 else 0 for y in predict] \n",
    "predict_1 = [1 if y == 1 else 0 for y in predict] \n",
    "predict_2 = [1 if y == 2 else 0 for y in predict] \n",
    "predicts = [predict_0,predict_1,predict_2]\n",
    "y_test_0 = [1 if y == 0 else 0 for y in y_test] \n",
    "y_test_1 = [1 if y == 1 else 0 for y in y_test] \n",
    "y_test_2 = [1 if y == 2 else 0 for y in y_test] \n",
    "y_tests = [y_test_0,y_test_1,y_test_2]"
   ]
  },
  {
   "cell_type": "code",
   "execution_count": 92,
   "id": "d9d2b0c2",
   "metadata": {},
   "outputs": [],
   "source": [
    "from sklearn.metrics import roc_auc_score\n",
    "model_scores = np.zeros(3)\n",
    "for i in range (0,3):\n",
    "    model_scores[i] = roc_auc_score(y_tests[i],predicts[i])"
   ]
  },
  {
   "cell_type": "code",
   "execution_count": 93,
   "id": "3ec2e026",
   "metadata": {},
   "outputs": [],
   "source": [
    "ovo_dtc_auc = model_scores.mean()\n",
    "ovo_dtc_r2 = r2_score(y_test,predict)"
   ]
  },
  {
   "cell_type": "code",
   "execution_count": null,
   "id": "807fb747",
   "metadata": {},
   "outputs": [],
   "source": []
  },
  {
   "cell_type": "markdown",
   "id": "4710a6e4",
   "metadata": {},
   "source": [
    "# out_code_classifier"
   ]
  },
  {
   "cell_type": "code",
   "execution_count": 94,
   "id": "d0242ad4",
   "metadata": {},
   "outputs": [],
   "source": [
    "from sklearn.multiclass import OutputCodeClassifier"
   ]
  },
  {
   "cell_type": "code",
   "execution_count": 95,
   "id": "a2369ca6",
   "metadata": {},
   "outputs": [],
   "source": [
    "#logreg"
   ]
  },
  {
   "cell_type": "code",
   "execution_count": 96,
   "id": "eb7daab3",
   "metadata": {},
   "outputs": [
    {
     "name": "stdout",
     "output_type": "stream",
     "text": [
      "{'clf__estimator__C': 1e-15}\n"
     ]
    }
   ],
   "source": [
    "model_to_set = OutputCodeClassifier(LogisticRegression(random_state=11))\n",
    "\n",
    "parameters = {\n",
    "    \"clf__estimator__C\": np.arange(1e-15, 1, 0.01)\n",
    "}\n",
    "scoring = {'AUC': 'roc_auc', 'F1': 'f1_weighted'}\n",
    "n_folds=5\n",
    "n_repeats=5\n",
    "rskfold = RepeatedStratifiedKFold(n_splits=n_folds, n_repeats=n_repeats, random_state=42)\n",
    "\n",
    "clf_pipe = Pipeline(steps=[('scale',scaler), ('clf',model_to_set)])\n",
    "\n",
    "model_tunning = GridSearchCV(clf_pipe, param_grid=parameters, cv=rskfold,\n",
    "                             scoring=scoring,refit='AUC')\n",
    "model_tunning.fit(X_train_scaled, y_train)\n",
    "print(model_tunning.best_params_)"
   ]
  },
  {
   "cell_type": "code",
   "execution_count": 97,
   "id": "73c12b85",
   "metadata": {},
   "outputs": [
    {
     "name": "stdout",
     "output_type": "stream",
     "text": [
      "GridSearchCV + multiple scorers + RepeatedStratifiedKFold\n",
      "================================================================================\n",
      "best estimator: Pipeline(steps=[('scale', StandardScaler()),\n",
      "                ('clf',\n",
      "                 OutputCodeClassifier(estimator=LogisticRegression(C=1e-15,\n",
      "                                                                   random_state=11)))])\n",
      "best params: {'clf__estimator__C': 1e-15}\n",
      "================================================================================\n"
     ]
    }
   ],
   "source": [
    "results = model_tunning.cv_results_\n",
    "print('GridSearchCV + multiple scorers + RepeatedStratifiedKFold')\n",
    "print('='*80)\n",
    "print(\"best estimator: \" + str(model_tunning.best_estimator_))\n",
    "print(\"best params: \" + str(model_tunning.best_params_))\n",
    "print('='*80)"
   ]
  },
  {
   "cell_type": "code",
   "execution_count": 98,
   "id": "07f3a080",
   "metadata": {},
   "outputs": [
    {
     "name": "stdout",
     "output_type": "stream",
     "text": [
      "Learning time: 0.032273929000211865\n"
     ]
    }
   ],
   "source": [
    "import timeit\n",
    "model_to_set = OutputCodeClassifier(LogisticRegression(random_state=11, C=1e-15))\n",
    "starttime = timeit.default_timer()\n",
    "model_to_set.fit(X_train_scaled,y_train)\n",
    "out_code_lr_time = timeit.default_timer() - starttime\n",
    "print(\"Learning time:\", out_code_lr_time)\n",
    "predict = model_to_set.predict(X_test_scaled)"
   ]
  },
  {
   "cell_type": "code",
   "execution_count": 99,
   "id": "3b0befa3",
   "metadata": {},
   "outputs": [],
   "source": [
    "predict_0 = [1 if y == 0 else 0 for y in predict] \n",
    "predict_1 = [1 if y == 1 else 0 for y in predict] \n",
    "predict_2 = [1 if y == 2 else 0 for y in predict] \n",
    "predicts = [predict_0,predict_1,predict_2]\n",
    "y_test_0 = [1 if y == 0 else 0 for y in y_test] \n",
    "y_test_1 = [1 if y == 1 else 0 for y in y_test] \n",
    "y_test_2 = [1 if y == 2 else 0 for y in y_test] \n",
    "y_tests = [y_test_0,y_test_1,y_test_2]"
   ]
  },
  {
   "cell_type": "code",
   "execution_count": 100,
   "id": "dfb9d708",
   "metadata": {},
   "outputs": [],
   "source": [
    "from sklearn.metrics import roc_auc_score\n",
    "model_scores = np.zeros(3)\n",
    "for i in range (0,3):\n",
    "    model_scores[i] = roc_auc_score(y_tests[i],predicts[i])"
   ]
  },
  {
   "cell_type": "code",
   "execution_count": 101,
   "id": "0e1ffa8a",
   "metadata": {},
   "outputs": [],
   "source": [
    "out_code_lr_auc = model_scores.mean()\n",
    "out_code_lr_r2 = r2_score(y_test,predict)"
   ]
  },
  {
   "cell_type": "code",
   "execution_count": null,
   "id": "5c22ccee",
   "metadata": {},
   "outputs": [],
   "source": []
  },
  {
   "cell_type": "code",
   "execution_count": 102,
   "id": "16b96e05",
   "metadata": {},
   "outputs": [],
   "source": [
    "#svm\n",
    "from sklearn.svm import SVC"
   ]
  },
  {
   "cell_type": "code",
   "execution_count": 103,
   "id": "8ca1cd6f",
   "metadata": {},
   "outputs": [
    {
     "name": "stdout",
     "output_type": "stream",
     "text": [
      "{'estimator__C': 0.1, 'estimator__gamma': 'scale', 'estimator__kernel': 'linear'}\n"
     ]
    }
   ],
   "source": [
    "model_to_set = OutputCodeClassifier(SVC(random_state=11))\n",
    "\n",
    "parameters = {\n",
    "    \"estimator__C\": [0.1, 0.25, 0.5, 0.75, 1, 2],\n",
    "    \"estimator__kernel\": [\"linear\", \"rbf\"],\n",
    "    \"estimator__gamma\": [\"scale\", \"auto\", 0.0001, 0.001, 0.01, 0.1, 1]\n",
    "}\n",
    "scoring = {'AUC': 'roc_auc', 'F1': 'f1_weighted'}\n",
    "n_folds=5\n",
    "n_repeats=5\n",
    "rskfold = RepeatedStratifiedKFold(n_splits=n_folds, n_repeats=n_repeats, random_state=42)\n",
    "\n",
    "model_tunning = GridSearchCV(model_to_set, param_grid=parameters, cv=rskfold,\n",
    "                             scoring=scoring,refit='AUC')\n",
    "model_tunning.fit(X_train_scaled, y_train)\n",
    "print(model_tunning.best_params_)"
   ]
  },
  {
   "cell_type": "code",
   "execution_count": 104,
   "id": "98f2dde6",
   "metadata": {},
   "outputs": [
    {
     "name": "stdout",
     "output_type": "stream",
     "text": [
      "GridSearchCV + multiple scorers + RepeatedStratifiedKFold\n",
      "================================================================================\n",
      "best estimator: OutputCodeClassifier(estimator=SVC(C=0.1, kernel='linear', random_state=11))\n",
      "best params: {'estimator__C': 0.1, 'estimator__gamma': 'scale', 'estimator__kernel': 'linear'}\n",
      "================================================================================\n"
     ]
    }
   ],
   "source": [
    "results = model_tunning.cv_results_\n",
    "print('GridSearchCV + multiple scorers + RepeatedStratifiedKFold')\n",
    "print('='*80)\n",
    "print(\"best estimator: \" + str(model_tunning.best_estimator_))\n",
    "print(\"best params: \" + str(model_tunning.best_params_))\n",
    "print('='*80)"
   ]
  },
  {
   "cell_type": "code",
   "execution_count": 105,
   "id": "4d669a61",
   "metadata": {},
   "outputs": [
    {
     "name": "stdout",
     "output_type": "stream",
     "text": [
      "Learning time: 0.07857241300007445\n"
     ]
    }
   ],
   "source": [
    "import timeit\n",
    "model_to_set = OutputCodeClassifier(SVC(random_state=11,C=0.1,gamma='scale',kernel='linear'))\n",
    "starttime = timeit.default_timer()\n",
    "model_to_set.fit(X_train_scaled,y_train)\n",
    "out_code_svc_time = timeit.default_timer() - starttime\n",
    "print(\"Learning time:\", out_code_svc_time)\n",
    "predict = model_to_set.predict(X_test_scaled)"
   ]
  },
  {
   "cell_type": "code",
   "execution_count": 106,
   "id": "0093743c",
   "metadata": {},
   "outputs": [],
   "source": [
    "predict_0 = [1 if y == 0 else 0 for y in predict] \n",
    "predict_1 = [1 if y == 1 else 0 for y in predict] \n",
    "predict_2 = [1 if y == 2 else 0 for y in predict] \n",
    "predicts = [predict_0,predict_1,predict_2]\n",
    "y_test_0 = [1 if y == 0 else 0 for y in y_test] \n",
    "y_test_1 = [1 if y == 1 else 0 for y in y_test] \n",
    "y_test_2 = [1 if y == 2 else 0 for y in y_test] \n",
    "y_tests = [y_test_0,y_test_1,y_test_2]"
   ]
  },
  {
   "cell_type": "code",
   "execution_count": 107,
   "id": "5c874046",
   "metadata": {},
   "outputs": [],
   "source": [
    "from sklearn.metrics import roc_auc_score\n",
    "model_scores = np.zeros(3)\n",
    "for i in range (0,3):\n",
    "    model_scores[i] = roc_auc_score(y_tests[i],predicts[i])"
   ]
  },
  {
   "cell_type": "code",
   "execution_count": 108,
   "id": "f2612398",
   "metadata": {},
   "outputs": [],
   "source": [
    "out_code_svc_auc = model_scores.mean()\n",
    "out_code_svc_r2 = r2_score(y_test,predict)"
   ]
  },
  {
   "cell_type": "code",
   "execution_count": 109,
   "id": "2c6537ab",
   "metadata": {},
   "outputs": [],
   "source": [
    "#knn\n",
    "from sklearn.neighbors import KNeighborsClassifier"
   ]
  },
  {
   "cell_type": "code",
   "execution_count": 110,
   "id": "9b5268ad",
   "metadata": {},
   "outputs": [
    {
     "name": "stdout",
     "output_type": "stream",
     "text": [
      "{'estimator__n_neighbors': 1, 'estimator__weights': 'uniform'}\n"
     ]
    }
   ],
   "source": [
    "model_to_set = OutputCodeClassifier(KNeighborsClassifier())\n",
    "parameters = {\n",
    "    \"estimator__n_neighbors\": np.arange(1, 11, 2),\n",
    "    \"estimator__weights\": ['uniform', 'distance']\n",
    "}\n",
    "scoring = {'AUC': 'roc_auc', 'F1': 'f1_weighted'}\n",
    "n_folds=5\n",
    "n_repeats=5\n",
    "rskfold = RepeatedStratifiedKFold(n_splits=n_folds, n_repeats=n_repeats, random_state=42)\n",
    "\n",
    "model_tunning = GridSearchCV(model_to_set, param_grid=parameters, cv=rskfold,\n",
    "                             scoring=scoring,refit='AUC')\n",
    "model_tunning.fit(X_train_scaled, y_train)\n",
    "print(model_tunning.best_params_)"
   ]
  },
  {
   "cell_type": "code",
   "execution_count": 111,
   "id": "65a2c2fb",
   "metadata": {},
   "outputs": [
    {
     "name": "stdout",
     "output_type": "stream",
     "text": [
      "GridSearchCV + multiple scorers + RepeatedStratifiedKFold\n",
      "================================================================================\n",
      "best estimator: OutputCodeClassifier(estimator=KNeighborsClassifier(n_neighbors=1))\n",
      "best params: {'estimator__n_neighbors': 1, 'estimator__weights': 'uniform'}\n",
      "================================================================================\n"
     ]
    }
   ],
   "source": [
    "results = model_tunning.cv_results_\n",
    "print('GridSearchCV + multiple scorers + RepeatedStratifiedKFold')\n",
    "print('='*80)\n",
    "print(\"best estimator: \" + str(model_tunning.best_estimator_))\n",
    "print(\"best params: \" + str(model_tunning.best_params_))\n",
    "print('='*80)"
   ]
  },
  {
   "cell_type": "code",
   "execution_count": 112,
   "id": "f80d3601",
   "metadata": {},
   "outputs": [
    {
     "name": "stdout",
     "output_type": "stream",
     "text": [
      "Learning time: 0.015579880999894158\n"
     ]
    }
   ],
   "source": [
    "import timeit\n",
    "model_to_set = OutputCodeClassifier(KNeighborsClassifier(n_neighbors=1, weights='uniform'))\n",
    "starttime = timeit.default_timer()\n",
    "model_to_set.fit(X_train_scaled,y_train)\n",
    "out_code_knn_time = timeit.default_timer() - starttime\n",
    "print(\"Learning time:\", out_code_knn_time)\n",
    "predict = model_to_set.predict(X_test_scaled)"
   ]
  },
  {
   "cell_type": "code",
   "execution_count": 113,
   "id": "6f196d00",
   "metadata": {},
   "outputs": [],
   "source": [
    "predict_0 = [1 if y == 0 else 0 for y in predict] \n",
    "predict_1 = [1 if y == 1 else 0 for y in predict] \n",
    "predict_2 = [1 if y == 2 else 0 for y in predict] \n",
    "predicts = [predict_0,predict_1,predict_2]\n",
    "y_test_0 = [1 if y == 0 else 0 for y in y_test] \n",
    "y_test_1 = [1 if y == 1 else 0 for y in y_test] \n",
    "y_test_2 = [1 if y == 2 else 0 for y in y_test] \n",
    "y_tests = [y_test_0,y_test_1,y_test_2]"
   ]
  },
  {
   "cell_type": "code",
   "execution_count": 114,
   "id": "72d3ad90",
   "metadata": {},
   "outputs": [],
   "source": [
    "from sklearn.metrics import roc_auc_score\n",
    "model_scores = np.zeros(3)\n",
    "for i in range (0,3):\n",
    "    model_scores[i] = roc_auc_score(y_tests[i],predicts[i])"
   ]
  },
  {
   "cell_type": "code",
   "execution_count": 115,
   "id": "bf445afa",
   "metadata": {},
   "outputs": [],
   "source": [
    "out_code_knn_auc = model_scores.mean()\n",
    "out_code_knn_r2 = r2_score(y_test,predict)"
   ]
  },
  {
   "cell_type": "code",
   "execution_count": 116,
   "id": "c0df27ae",
   "metadata": {},
   "outputs": [],
   "source": [
    "#naive bayes\n",
    "from sklearn.naive_bayes import GaussianNB"
   ]
  },
  {
   "cell_type": "code",
   "execution_count": 117,
   "id": "11e1226a",
   "metadata": {},
   "outputs": [
    {
     "name": "stdout",
     "output_type": "stream",
     "text": [
      "{'estimator__priors': None, 'estimator__var_smoothing': 1.0}\n"
     ]
    }
   ],
   "source": [
    "model_to_set = OutputCodeClassifier(GaussianNB())\n",
    "parameters = {\n",
    "    \"estimator__priors\": [None, [0.33, 0.33, 0.33]],\n",
    "    \"estimator__var_smoothing\": np.logspace(0, -9, num=100)\n",
    "}\n",
    "scoring = {'AUC': 'roc_auc', 'F1': 'f1_weighted'}\n",
    "n_folds=5\n",
    "n_repeats=5\n",
    "rskfold = RepeatedStratifiedKFold(n_splits=n_folds, n_repeats=n_repeats, random_state=42)\n",
    "\n",
    "model_tunning = GridSearchCV(model_to_set, param_grid=parameters, cv=rskfold,\n",
    "                             scoring=scoring,refit='AUC')\n",
    "model_tunning.fit(X_train_scaled, y_train)\n",
    "print(model_tunning.best_params_)"
   ]
  },
  {
   "cell_type": "code",
   "execution_count": 118,
   "id": "8e90b387",
   "metadata": {},
   "outputs": [
    {
     "name": "stdout",
     "output_type": "stream",
     "text": [
      "GridSearchCV + multiple scorers + RepeatedStratifiedKFold\n",
      "================================================================================\n",
      "best estimator: OutputCodeClassifier(estimator=GaussianNB(var_smoothing=1.0))\n",
      "best params: {'estimator__priors': None, 'estimator__var_smoothing': 1.0}\n",
      "================================================================================\n"
     ]
    }
   ],
   "source": [
    "results = model_tunning.cv_results_\n",
    "print('GridSearchCV + multiple scorers + RepeatedStratifiedKFold')\n",
    "print('='*80)\n",
    "print(\"best estimator: \" + str(model_tunning.best_estimator_))\n",
    "print(\"best params: \" + str(model_tunning.best_params_))\n",
    "print('='*80)"
   ]
  },
  {
   "cell_type": "code",
   "execution_count": 119,
   "id": "869e16ca",
   "metadata": {},
   "outputs": [
    {
     "name": "stdout",
     "output_type": "stream",
     "text": [
      "Learning time: 0.02491305399985322\n"
     ]
    }
   ],
   "source": [
    "import timeit\n",
    "model_to_set = OutputCodeClassifier(GaussianNB(var_smoothing=1.0, priors = None))\n",
    "starttime = timeit.default_timer()\n",
    "model_to_set.fit(X_train_scaled,y_train)\n",
    "out_code_nb_time = timeit.default_timer() - starttime\n",
    "print(\"Learning time:\", out_code_nb_time)\n",
    "predict = model_to_set.predict(X_test_scaled)"
   ]
  },
  {
   "cell_type": "code",
   "execution_count": 120,
   "id": "59294310",
   "metadata": {},
   "outputs": [],
   "source": [
    "predict_0 = [1 if y == 0 else 0 for y in predict] \n",
    "predict_1 = [1 if y == 1 else 0 for y in predict] \n",
    "predict_2 = [1 if y == 2 else 0 for y in predict] \n",
    "predicts = [predict_0,predict_1,predict_2]\n",
    "y_test_0 = [1 if y == 0 else 0 for y in y_test] \n",
    "y_test_1 = [1 if y == 1 else 0 for y in y_test] \n",
    "y_test_2 = [1 if y == 2 else 0 for y in y_test] \n",
    "y_tests = [y_test_0,y_test_1,y_test_2]"
   ]
  },
  {
   "cell_type": "code",
   "execution_count": 121,
   "id": "38c45f58",
   "metadata": {},
   "outputs": [],
   "source": [
    "from sklearn.metrics import roc_auc_score\n",
    "model_scores = np.zeros(3)\n",
    "for i in range (0,3):\n",
    "    model_scores[i] = roc_auc_score(y_tests[i],predicts[i])"
   ]
  },
  {
   "cell_type": "code",
   "execution_count": 122,
   "id": "ee7b524c",
   "metadata": {},
   "outputs": [],
   "source": [
    "out_code_nb_auc = model_scores.mean()\n",
    "out_code_nb_r2 = r2_score(y_test,predict)"
   ]
  },
  {
   "cell_type": "code",
   "execution_count": 123,
   "id": "7151d0e4",
   "metadata": {},
   "outputs": [],
   "source": [
    "#dtc\n",
    "from sklearn.tree import DecisionTreeClassifier"
   ]
  },
  {
   "cell_type": "code",
   "execution_count": 124,
   "id": "ae9c2ab0",
   "metadata": {},
   "outputs": [
    {
     "name": "stdout",
     "output_type": "stream",
     "text": [
      "{'estimator__criterion': 'gini', 'estimator__max_depth': 2, 'estimator__min_samples_leaf': 1, 'estimator__min_samples_split': 2, 'estimator__splitter': 'best'}\n"
     ]
    }
   ],
   "source": [
    "model_to_set = OutputCodeClassifier(DecisionTreeClassifier(random_state=81))\n",
    "parameters = {\n",
    "    \"estimator__criterion\": [\"gini\", \"entropy\", \"log_loss\"],\n",
    "    \"estimator__splitter\": [\"best\", \"random\"],\n",
    "    \"estimator__max_depth\": [2, 3, 4, 5, 6, 7, 8, 9],\n",
    "    \"estimator__min_samples_split\": [2, 4, 6, 10],\n",
    "    \"estimator__min_samples_leaf\": [1, 2, 4, 6, 8, 10, 12],\n",
    "}\n",
    "scoring = {'AUC': 'roc_auc', 'F1': 'f1_weighted'}\n",
    "n_folds=5\n",
    "n_repeats=5\n",
    "rskfold = RepeatedStratifiedKFold(n_splits=n_folds, n_repeats=n_repeats, random_state=42)\n",
    "\n",
    "model_tunning = GridSearchCV(model_to_set, param_grid=parameters, cv=rskfold,\n",
    "                             scoring=scoring,refit='AUC')\n",
    "model_tunning.fit(X_train_scaled, y_train)\n",
    "print(model_tunning.best_params_)"
   ]
  },
  {
   "cell_type": "code",
   "execution_count": 125,
   "id": "b2d9858a",
   "metadata": {},
   "outputs": [
    {
     "name": "stdout",
     "output_type": "stream",
     "text": [
      "GridSearchCV + multiple scorers + RepeatedStratifiedKFold\n",
      "================================================================================\n",
      "best estimator: OutputCodeClassifier(estimator=DecisionTreeClassifier(max_depth=2,\n",
      "                                                      random_state=81))\n",
      "best params: {'estimator__criterion': 'gini', 'estimator__max_depth': 2, 'estimator__min_samples_leaf': 1, 'estimator__min_samples_split': 2, 'estimator__splitter': 'best'}\n",
      "================================================================================\n"
     ]
    }
   ],
   "source": [
    "results = model_tunning.cv_results_\n",
    "print('GridSearchCV + multiple scorers + RepeatedStratifiedKFold')\n",
    "print('='*80)\n",
    "print(\"best estimator: \" + str(model_tunning.best_estimator_))\n",
    "print(\"best params: \" + str(model_tunning.best_params_))\n",
    "print('='*80)"
   ]
  },
  {
   "cell_type": "code",
   "execution_count": 126,
   "id": "a328f16f",
   "metadata": {},
   "outputs": [
    {
     "name": "stdout",
     "output_type": "stream",
     "text": [
      "Learning time: 0.0208216179998999\n"
     ]
    }
   ],
   "source": [
    "import timeit\n",
    "model_to_set = OutputCodeClassifier(DecisionTreeClassifier(max_depth=2,random_state=81,\n",
    "criterion='gini',min_samples_leaf=1,min_samples_split=2,splitter='best'))\n",
    "starttime = timeit.default_timer()\n",
    "model_to_set.fit(X_train_scaled,y_train)\n",
    "out_code_dtc_time = timeit.default_timer() - starttime\n",
    "print(\"Learning time:\", out_code_dtc_time)\n",
    "predict = model_to_set.predict(X_test_scaled)"
   ]
  },
  {
   "cell_type": "code",
   "execution_count": 127,
   "id": "606f82d4",
   "metadata": {},
   "outputs": [],
   "source": [
    "predict_0 = [1 if y == 0 else 0 for y in predict] \n",
    "predict_1 = [1 if y == 1 else 0 for y in predict] \n",
    "predict_2 = [1 if y == 2 else 0 for y in predict] \n",
    "predicts = [predict_0,predict_1,predict_2]\n",
    "y_test_0 = [1 if y == 0 else 0 for y in y_test] \n",
    "y_test_1 = [1 if y == 1 else 0 for y in y_test] \n",
    "y_test_2 = [1 if y == 2 else 0 for y in y_test] \n",
    "y_tests = [y_test_0,y_test_1,y_test_2]"
   ]
  },
  {
   "cell_type": "code",
   "execution_count": 128,
   "id": "b4e5bdec",
   "metadata": {},
   "outputs": [],
   "source": [
    "from sklearn.metrics import roc_auc_score\n",
    "model_scores = np.zeros(3)\n",
    "for i in range (0,3):\n",
    "    model_scores[i] = roc_auc_score(y_tests[i],predicts[i])"
   ]
  },
  {
   "cell_type": "code",
   "execution_count": 129,
   "id": "70500f4c",
   "metadata": {},
   "outputs": [],
   "source": [
    "out_code_dtc_auc = model_scores.mean()\n",
    "out_code_dtc_r2 = r2_score(y_test,predict)"
   ]
  },
  {
   "cell_type": "code",
   "execution_count": null,
   "id": "4acf25df",
   "metadata": {},
   "outputs": [],
   "source": []
  },
  {
   "cell_type": "markdown",
   "id": "a3b7cbcc",
   "metadata": {},
   "source": [
    "# multilabel"
   ]
  },
  {
   "cell_type": "code",
   "execution_count": 130,
   "id": "b0e76d13",
   "metadata": {},
   "outputs": [
    {
     "data": {
      "text/html": [
       "<div>\n",
       "<style scoped>\n",
       "    .dataframe tbody tr th:only-of-type {\n",
       "        vertical-align: middle;\n",
       "    }\n",
       "\n",
       "    .dataframe tbody tr th {\n",
       "        vertical-align: top;\n",
       "    }\n",
       "\n",
       "    .dataframe thead th {\n",
       "        text-align: right;\n",
       "    }\n",
       "</style>\n",
       "<table border=\"1\" class=\"dataframe\">\n",
       "  <thead>\n",
       "    <tr style=\"text-align: right;\">\n",
       "      <th></th>\n",
       "      <th>id</th>\n",
       "      <th>service_a</th>\n",
       "      <th>service_b</th>\n",
       "      <th>service_c</th>\n",
       "      <th>service_d</th>\n",
       "      <th>service_e</th>\n",
       "      <th>service_f</th>\n",
       "      <th>service_g</th>\n",
       "      <th>service_h</th>\n",
       "      <th>service_i</th>\n",
       "      <th>service_j</th>\n",
       "      <th>service_k</th>\n",
       "      <th>service_l</th>\n",
       "      <th>service_m</th>\n",
       "      <th>service_n</th>\n",
       "    </tr>\n",
       "  </thead>\n",
       "  <tbody>\n",
       "    <tr>\n",
       "      <th>0</th>\n",
       "      <td>11193</td>\n",
       "      <td>1</td>\n",
       "      <td>1</td>\n",
       "      <td>0</td>\n",
       "      <td>0</td>\n",
       "      <td>0</td>\n",
       "      <td>0</td>\n",
       "      <td>0</td>\n",
       "      <td>0</td>\n",
       "      <td>0</td>\n",
       "      <td>1</td>\n",
       "      <td>1</td>\n",
       "      <td>0</td>\n",
       "      <td>0</td>\n",
       "      <td>0</td>\n",
       "    </tr>\n",
       "    <tr>\n",
       "      <th>1</th>\n",
       "      <td>11382</td>\n",
       "      <td>0</td>\n",
       "      <td>0</td>\n",
       "      <td>0</td>\n",
       "      <td>0</td>\n",
       "      <td>0</td>\n",
       "      <td>0</td>\n",
       "      <td>0</td>\n",
       "      <td>0</td>\n",
       "      <td>0</td>\n",
       "      <td>1</td>\n",
       "      <td>1</td>\n",
       "      <td>0</td>\n",
       "      <td>0</td>\n",
       "      <td>0</td>\n",
       "    </tr>\n",
       "    <tr>\n",
       "      <th>2</th>\n",
       "      <td>16531</td>\n",
       "      <td>0</td>\n",
       "      <td>0</td>\n",
       "      <td>0</td>\n",
       "      <td>0</td>\n",
       "      <td>0</td>\n",
       "      <td>0</td>\n",
       "      <td>0</td>\n",
       "      <td>0</td>\n",
       "      <td>0</td>\n",
       "      <td>1</td>\n",
       "      <td>1</td>\n",
       "      <td>0</td>\n",
       "      <td>0</td>\n",
       "      <td>0</td>\n",
       "    </tr>\n",
       "    <tr>\n",
       "      <th>3</th>\n",
       "      <td>1896</td>\n",
       "      <td>0</td>\n",
       "      <td>0</td>\n",
       "      <td>0</td>\n",
       "      <td>1</td>\n",
       "      <td>0</td>\n",
       "      <td>0</td>\n",
       "      <td>0</td>\n",
       "      <td>0</td>\n",
       "      <td>0</td>\n",
       "      <td>1</td>\n",
       "      <td>0</td>\n",
       "      <td>1</td>\n",
       "      <td>0</td>\n",
       "      <td>0</td>\n",
       "    </tr>\n",
       "    <tr>\n",
       "      <th>4</th>\n",
       "      <td>18262</td>\n",
       "      <td>0</td>\n",
       "      <td>0</td>\n",
       "      <td>0</td>\n",
       "      <td>1</td>\n",
       "      <td>1</td>\n",
       "      <td>0</td>\n",
       "      <td>0</td>\n",
       "      <td>0</td>\n",
       "      <td>0</td>\n",
       "      <td>0</td>\n",
       "      <td>1</td>\n",
       "      <td>1</td>\n",
       "      <td>1</td>\n",
       "      <td>0</td>\n",
       "    </tr>\n",
       "  </tbody>\n",
       "</table>\n",
       "</div>"
      ],
      "text/plain": [
       "      id  service_a  service_b  service_c  service_d  service_e  service_f  \\\n",
       "0  11193          1          1          0          0          0          0   \n",
       "1  11382          0          0          0          0          0          0   \n",
       "2  16531          0          0          0          0          0          0   \n",
       "3   1896          0          0          0          1          0          0   \n",
       "4  18262          0          0          0          1          1          0   \n",
       "\n",
       "   service_g  service_h  service_i  service_j  service_k  service_l  \\\n",
       "0          0          0          0          1          1          0   \n",
       "1          0          0          0          1          1          0   \n",
       "2          0          0          0          1          1          0   \n",
       "3          0          0          0          1          0          1   \n",
       "4          0          0          0          0          1          1   \n",
       "\n",
       "   service_m  service_n  \n",
       "0          0          0  \n",
       "1          0          0  \n",
       "2          0          0  \n",
       "3          0          0  \n",
       "4          1          0  "
      ]
     },
     "execution_count": 130,
     "metadata": {},
     "output_type": "execute_result"
    }
   ],
   "source": [
    "df = pd.read_csv('ml-course-main/data/multiclass_classification/train_labels.csv')\n",
    "df.head()"
   ]
  },
  {
   "cell_type": "code",
   "execution_count": 131,
   "id": "33a10f82",
   "metadata": {},
   "outputs": [
    {
     "data": {
      "text/html": [
       "<div>\n",
       "<style scoped>\n",
       "    .dataframe tbody tr th:only-of-type {\n",
       "        vertical-align: middle;\n",
       "    }\n",
       "\n",
       "    .dataframe tbody tr th {\n",
       "        vertical-align: top;\n",
       "    }\n",
       "\n",
       "    .dataframe thead th {\n",
       "        text-align: right;\n",
       "    }\n",
       "</style>\n",
       "<table border=\"1\" class=\"dataframe\">\n",
       "  <thead>\n",
       "    <tr style=\"text-align: right;\">\n",
       "      <th></th>\n",
       "      <th>service_a</th>\n",
       "      <th>service_b</th>\n",
       "      <th>service_c</th>\n",
       "      <th>service_d</th>\n",
       "      <th>service_e</th>\n",
       "      <th>service_f</th>\n",
       "      <th>service_g</th>\n",
       "      <th>service_h</th>\n",
       "      <th>service_i</th>\n",
       "      <th>service_j</th>\n",
       "      <th>service_k</th>\n",
       "      <th>service_l</th>\n",
       "      <th>service_m</th>\n",
       "      <th>service_n</th>\n",
       "    </tr>\n",
       "  </thead>\n",
       "  <tbody>\n",
       "    <tr>\n",
       "      <th>0</th>\n",
       "      <td>1</td>\n",
       "      <td>1</td>\n",
       "      <td>0</td>\n",
       "      <td>0</td>\n",
       "      <td>0</td>\n",
       "      <td>0</td>\n",
       "      <td>0</td>\n",
       "      <td>0</td>\n",
       "      <td>0</td>\n",
       "      <td>1</td>\n",
       "      <td>1</td>\n",
       "      <td>0</td>\n",
       "      <td>0</td>\n",
       "      <td>0</td>\n",
       "    </tr>\n",
       "    <tr>\n",
       "      <th>1</th>\n",
       "      <td>0</td>\n",
       "      <td>0</td>\n",
       "      <td>0</td>\n",
       "      <td>0</td>\n",
       "      <td>0</td>\n",
       "      <td>0</td>\n",
       "      <td>0</td>\n",
       "      <td>0</td>\n",
       "      <td>0</td>\n",
       "      <td>1</td>\n",
       "      <td>1</td>\n",
       "      <td>0</td>\n",
       "      <td>0</td>\n",
       "      <td>0</td>\n",
       "    </tr>\n",
       "    <tr>\n",
       "      <th>2</th>\n",
       "      <td>0</td>\n",
       "      <td>0</td>\n",
       "      <td>0</td>\n",
       "      <td>0</td>\n",
       "      <td>0</td>\n",
       "      <td>0</td>\n",
       "      <td>0</td>\n",
       "      <td>0</td>\n",
       "      <td>0</td>\n",
       "      <td>1</td>\n",
       "      <td>1</td>\n",
       "      <td>0</td>\n",
       "      <td>0</td>\n",
       "      <td>0</td>\n",
       "    </tr>\n",
       "    <tr>\n",
       "      <th>3</th>\n",
       "      <td>0</td>\n",
       "      <td>0</td>\n",
       "      <td>0</td>\n",
       "      <td>1</td>\n",
       "      <td>0</td>\n",
       "      <td>0</td>\n",
       "      <td>0</td>\n",
       "      <td>0</td>\n",
       "      <td>0</td>\n",
       "      <td>1</td>\n",
       "      <td>0</td>\n",
       "      <td>1</td>\n",
       "      <td>0</td>\n",
       "      <td>0</td>\n",
       "    </tr>\n",
       "    <tr>\n",
       "      <th>4</th>\n",
       "      <td>0</td>\n",
       "      <td>0</td>\n",
       "      <td>0</td>\n",
       "      <td>1</td>\n",
       "      <td>1</td>\n",
       "      <td>0</td>\n",
       "      <td>0</td>\n",
       "      <td>0</td>\n",
       "      <td>0</td>\n",
       "      <td>0</td>\n",
       "      <td>1</td>\n",
       "      <td>1</td>\n",
       "      <td>1</td>\n",
       "      <td>0</td>\n",
       "    </tr>\n",
       "  </tbody>\n",
       "</table>\n",
       "</div>"
      ],
      "text/plain": [
       "   service_a  service_b  service_c  service_d  service_e  service_f  \\\n",
       "0          1          1          0          0          0          0   \n",
       "1          0          0          0          0          0          0   \n",
       "2          0          0          0          0          0          0   \n",
       "3          0          0          0          1          0          0   \n",
       "4          0          0          0          1          1          0   \n",
       "\n",
       "   service_g  service_h  service_i  service_j  service_k  service_l  \\\n",
       "0          0          0          0          1          1          0   \n",
       "1          0          0          0          1          1          0   \n",
       "2          0          0          0          1          1          0   \n",
       "3          0          0          0          1          0          1   \n",
       "4          0          0          0          0          1          1   \n",
       "\n",
       "   service_m  service_n  \n",
       "0          0          0  \n",
       "1          0          0  \n",
       "2          0          0  \n",
       "3          0          0  \n",
       "4          1          0  "
      ]
     },
     "execution_count": 131,
     "metadata": {},
     "output_type": "execute_result"
    }
   ],
   "source": [
    "y_multi = df.head(500).drop(columns = ['id'])\n",
    "y_multi.head()"
   ]
  },
  {
   "cell_type": "code",
   "execution_count": 132,
   "id": "ec925ecc",
   "metadata": {},
   "outputs": [],
   "source": [
    "X_train_multi, X_test_multi, y_train_multi, y_test_multi = train_test_split(X, y_multi, test_size = 0.3, random_state=42)\n",
    "scaler = StandardScaler()\n",
    "X_train_scaled_multi = scaler.fit_transform(X_train_multi)\n",
    "X_test_scaled_multi = scaler.transform(X_test_multi)"
   ]
  },
  {
   "cell_type": "code",
   "execution_count": 133,
   "id": "0c961435",
   "metadata": {},
   "outputs": [],
   "source": [
    "#multioutput"
   ]
  },
  {
   "cell_type": "code",
   "execution_count": 134,
   "id": "8416bcb0",
   "metadata": {},
   "outputs": [],
   "source": [
    "#logreg\n",
    "from sklearn.multioutput import MultiOutputClassifier"
   ]
  },
  {
   "cell_type": "code",
   "execution_count": 135,
   "id": "0aff95ff",
   "metadata": {},
   "outputs": [
    {
     "name": "stdout",
     "output_type": "stream",
     "text": [
      "{'estimator__C': 1e-15}\n"
     ]
    }
   ],
   "source": [
    "model_to_set = MultiOutputClassifier(LogisticRegression())\n",
    "parameters = {\n",
    "    \"estimator__C\": np.arange(1e-15, 1, 0.01)\n",
    "}\n",
    "scoring = {'AUC': 'roc_auc', 'F1': 'f1_weighted'}\n",
    "model_tunning = GridSearchCV(model_to_set, param_grid=parameters,\n",
    "                             scoring=scoring,refit='AUC')\n",
    "model_tunning.fit(X_train_scaled_multi, y_train_multi)\n",
    "print(model_tunning.best_params_)"
   ]
  },
  {
   "cell_type": "code",
   "execution_count": 136,
   "id": "64eaee35",
   "metadata": {},
   "outputs": [
    {
     "name": "stdout",
     "output_type": "stream",
     "text": [
      "GridSearchCV + multiple scorers\n",
      "================================================================================\n",
      "best estimator: MultiOutputClassifier(estimator=LogisticRegression(C=1e-15))\n",
      "best params: {'estimator__C': 1e-15}\n",
      "================================================================================\n"
     ]
    }
   ],
   "source": [
    "results = model_tunning.cv_results_\n",
    "print('GridSearchCV + multiple scorers')\n",
    "print('='*80)\n",
    "print(\"best estimator: \" + str(model_tunning.best_estimator_))\n",
    "print(\"best params: \" + str(model_tunning.best_params_))\n",
    "print('='*80)"
   ]
  },
  {
   "cell_type": "code",
   "execution_count": 137,
   "id": "a92062db",
   "metadata": {},
   "outputs": [
    {
     "name": "stdout",
     "output_type": "stream",
     "text": [
      "Learning time: 0.0956217339999057\n"
     ]
    }
   ],
   "source": [
    "import timeit\n",
    "model_to_set = MultiOutputClassifier(LogisticRegression(C=1e-15))\n",
    "starttime = timeit.default_timer()\n",
    "model_to_set.fit(X_train_scaled_multi,y_train_multi)\n",
    "multi_label_lr_time = timeit.default_timer() - starttime\n",
    "print(\"Learning time:\", multi_label_lr_time)\n",
    "predict = model_to_set.predict(X_test_scaled_multi)"
   ]
  },
  {
   "cell_type": "code",
   "execution_count": 138,
   "id": "18540057",
   "metadata": {
    "scrolled": true
   },
   "outputs": [],
   "source": [
    "counter=[]\n",
    "for iter1 in range(0,predict.shape[0]):\n",
    "    temp=0\n",
    "    for iter2 in range(0,predict.shape[1]):\n",
    "        if predict[iter1,iter2] == y_test_multi.iloc[iter1,iter2]:\n",
    "            temp+=1\n",
    "    counter.append(temp)\n",
    "for i in range (0,len(counter)):\n",
    "    counter[i] = counter[i]/14\n",
    "multi_label_lr_accuracy = sum(counter) / len(counter)\n",
    "multi_label_lr_r2 = r2_score(y_test_multi,predict)"
   ]
  },
  {
   "cell_type": "code",
   "execution_count": 139,
   "id": "a99bf596",
   "metadata": {},
   "outputs": [],
   "source": [
    "#svm"
   ]
  },
  {
   "cell_type": "code",
   "execution_count": 140,
   "id": "355f2d0a",
   "metadata": {},
   "outputs": [
    {
     "name": "stdout",
     "output_type": "stream",
     "text": [
      "{'estimator__C': 0.1, 'estimator__gamma': 'scale', 'estimator__kernel': 'linear'}\n"
     ]
    }
   ],
   "source": [
    "model_to_set = MultiOutputClassifier(SVC(random_state=11))\n",
    "parameters = {\n",
    "    \"estimator__C\": [0.1, 0.25, 0.5, 0.75, 1, 2],\n",
    "    \"estimator__kernel\": [\"linear\", \"rbf\"],\n",
    "    \"estimator__gamma\": [\"scale\", \"auto\", 0.0001, 0.001, 0.01, 0.1, 1]\n",
    "}\n",
    "scoring = {'AUC': 'roc_auc', 'F1': 'f1_weighted'}\n",
    "n_folds=5\n",
    "n_repeats=5\n",
    "model_tunning = GridSearchCV(model_to_set, param_grid=parameters,\n",
    "                             scoring=scoring,refit='AUC')\n",
    "model_tunning.fit(X_train_scaled_multi, y_train_multi)\n",
    "print(model_tunning.best_params_)"
   ]
  },
  {
   "cell_type": "code",
   "execution_count": 141,
   "id": "85598549",
   "metadata": {},
   "outputs": [
    {
     "name": "stdout",
     "output_type": "stream",
     "text": [
      "GridSearchCV + multiple scorers\n",
      "================================================================================\n",
      "best estimator: MultiOutputClassifier(estimator=SVC(C=0.1, kernel='linear', random_state=11))\n",
      "best params: {'estimator__C': 0.1, 'estimator__gamma': 'scale', 'estimator__kernel': 'linear'}\n",
      "================================================================================\n"
     ]
    }
   ],
   "source": [
    "results = model_tunning.cv_results_\n",
    "print('GridSearchCV + multiple scorers')\n",
    "print('='*80)\n",
    "print(\"best estimator: \" + str(model_tunning.best_estimator_))\n",
    "print(\"best params: \" + str(model_tunning.best_params_))\n",
    "print('='*80)"
   ]
  },
  {
   "cell_type": "code",
   "execution_count": 142,
   "id": "53a73095",
   "metadata": {},
   "outputs": [
    {
     "name": "stdout",
     "output_type": "stream",
     "text": [
      "Learning time: 0.44095387600009417\n"
     ]
    }
   ],
   "source": [
    "import timeit\n",
    "model_to_set = MultiOutputClassifier(SVC(C=0.1, kernel='linear', random_state=11))\n",
    "starttime = timeit.default_timer()\n",
    "model_to_set.fit(X_train_scaled_multi,y_train_multi)\n",
    "multi_label_svc_time = timeit.default_timer() - starttime\n",
    "print(\"Learning time:\", multi_label_svc_time)\n",
    "predict = model_to_set.predict(X_test_scaled_multi)"
   ]
  },
  {
   "cell_type": "code",
   "execution_count": 143,
   "id": "d51f3b6e",
   "metadata": {},
   "outputs": [],
   "source": [
    "counter=[]\n",
    "for iter1 in range(0,predict.shape[0]):\n",
    "    temp=0\n",
    "    for iter2 in range(0,predict.shape[1]):\n",
    "        if predict[iter1,iter2] == y_test_multi.iloc[iter1,iter2]:\n",
    "            temp+=1\n",
    "    counter.append(temp)\n",
    "for i in range (0,len(counter)):\n",
    "    counter[i] = counter[i]/14\n",
    "multi_label_svc_accuracy = sum(counter) / len(counter)\n",
    "multi_label_svc_r2 = r2_score(y_test_multi,predict)"
   ]
  },
  {
   "cell_type": "code",
   "execution_count": 144,
   "id": "6ec93889",
   "metadata": {},
   "outputs": [],
   "source": [
    "#knn"
   ]
  },
  {
   "cell_type": "code",
   "execution_count": 145,
   "id": "94f036e2",
   "metadata": {},
   "outputs": [
    {
     "name": "stdout",
     "output_type": "stream",
     "text": [
      "{'estimator__n_neighbors': 1, 'estimator__weights': 'uniform'}\n"
     ]
    }
   ],
   "source": [
    "model_to_set = MultiOutputClassifier(KNeighborsClassifier())\n",
    "parameters = {\n",
    "    \"estimator__n_neighbors\": np.arange(1, 11, 2),\n",
    "    \"estimator__weights\": ['uniform', 'distance']\n",
    "}\n",
    "scoring = {'AUC': 'roc_auc', 'F1': 'f1_weighted'}\n",
    "model_tunning = GridSearchCV(model_to_set, param_grid=parameters,\n",
    "                             scoring=scoring,refit='AUC')\n",
    "model_tunning.fit(X_train_scaled_multi, y_train_multi)\n",
    "print(model_tunning.best_params_)"
   ]
  },
  {
   "cell_type": "code",
   "execution_count": 146,
   "id": "45f35e04",
   "metadata": {},
   "outputs": [
    {
     "name": "stdout",
     "output_type": "stream",
     "text": [
      "GridSearchCV + multiple scorers\n",
      "================================================================================\n",
      "best estimator: MultiOutputClassifier(estimator=KNeighborsClassifier(n_neighbors=1))\n",
      "best params: {'estimator__n_neighbors': 1, 'estimator__weights': 'uniform'}\n",
      "================================================================================\n"
     ]
    }
   ],
   "source": [
    "results = model_tunning.cv_results_\n",
    "print('GridSearchCV + multiple scorers')\n",
    "print('='*80)\n",
    "print(\"best estimator: \" + str(model_tunning.best_estimator_))\n",
    "print(\"best params: \" + str(model_tunning.best_params_))\n",
    "print('='*80)"
   ]
  },
  {
   "cell_type": "code",
   "execution_count": 147,
   "id": "ef99ee69",
   "metadata": {},
   "outputs": [
    {
     "name": "stdout",
     "output_type": "stream",
     "text": [
      "Learning time: 0.07059558000037214\n"
     ]
    }
   ],
   "source": [
    "import timeit\n",
    "model_to_set = MultiOutputClassifier(KNeighborsClassifier(n_neighbors=1,weights='uniform'))\n",
    "starttime = timeit.default_timer()\n",
    "model_to_set.fit(X_train_scaled_multi,y_train_multi)\n",
    "multi_label_knn_time = timeit.default_timer() - starttime\n",
    "print(\"Learning time:\", multi_label_knn_time)\n",
    "predict = model_to_set.predict(X_test_scaled_multi)"
   ]
  },
  {
   "cell_type": "code",
   "execution_count": 148,
   "id": "152ebf7e",
   "metadata": {},
   "outputs": [],
   "source": [
    "counter=[]\n",
    "for iter1 in range(0,predict.shape[0]):\n",
    "    temp=0\n",
    "    for iter2 in range(0,predict.shape[1]):\n",
    "        if predict[iter1,iter2] == y_test_multi.iloc[iter1,iter2]:\n",
    "            temp+=1\n",
    "    counter.append(temp)\n",
    "for i in range (0,len(counter)):\n",
    "    counter[i] = counter[i]/14\n",
    "multi_label_knn_accuracy = sum(counter) / len(counter)\n",
    "multi_label_knn_r2 = r2_score(y_test_multi,predict)"
   ]
  },
  {
   "cell_type": "code",
   "execution_count": 149,
   "id": "36699315",
   "metadata": {},
   "outputs": [],
   "source": [
    "#naive_bayes"
   ]
  },
  {
   "cell_type": "code",
   "execution_count": 150,
   "id": "0d1f9ff1",
   "metadata": {},
   "outputs": [
    {
     "name": "stdout",
     "output_type": "stream",
     "text": [
      "{'estimator__priors': None, 'estimator__var_smoothing': 1.0}\n"
     ]
    }
   ],
   "source": [
    "model_to_set = MultiOutputClassifier(GaussianNB())\n",
    "parameters = {\n",
    "    \"estimator__priors\": [None, [0.33, 0.33, 0.33]],\n",
    "    \"estimator__var_smoothing\": np.logspace(0, -9, num=100)\n",
    "}\n",
    "scoring = {'AUC': 'roc_auc', 'F1': 'f1_weighted'}\n",
    "model_tunning = GridSearchCV(model_to_set, param_grid=parameters,\n",
    "                             scoring=scoring,refit='AUC')\n",
    "model_tunning.fit(X_train_scaled_multi, y_train_multi)\n",
    "print(model_tunning.best_params_)"
   ]
  },
  {
   "cell_type": "code",
   "execution_count": 151,
   "id": "6fa86467",
   "metadata": {},
   "outputs": [
    {
     "name": "stdout",
     "output_type": "stream",
     "text": [
      "GridSearchCV + multiple scorers\n",
      "================================================================================\n",
      "best estimator: MultiOutputClassifier(estimator=GaussianNB(var_smoothing=1.0))\n",
      "best params: {'estimator__priors': None, 'estimator__var_smoothing': 1.0}\n",
      "================================================================================\n"
     ]
    }
   ],
   "source": [
    "results = model_tunning.cv_results_\n",
    "print('GridSearchCV + multiple scorers')\n",
    "print('='*80)\n",
    "print(\"best estimator: \" + str(model_tunning.best_estimator_))\n",
    "print(\"best params: \" + str(model_tunning.best_params_))\n",
    "print('='*80)"
   ]
  },
  {
   "cell_type": "code",
   "execution_count": 152,
   "id": "7983b6e4",
   "metadata": {},
   "outputs": [
    {
     "name": "stdout",
     "output_type": "stream",
     "text": [
      "Learning time: 0.09290951100001621\n"
     ]
    }
   ],
   "source": [
    "import timeit\n",
    "model_to_set = MultiOutputClassifier(GaussianNB(priors=None,var_smoothing=1.0))\n",
    "starttime = timeit.default_timer()\n",
    "model_to_set.fit(X_train_scaled_multi,y_train_multi)\n",
    "multi_label_nb_time = timeit.default_timer() - starttime\n",
    "print(\"Learning time:\", multi_label_nb_time)\n",
    "predict = model_to_set.predict(X_test_scaled_multi)"
   ]
  },
  {
   "cell_type": "code",
   "execution_count": 153,
   "id": "fc417a01",
   "metadata": {},
   "outputs": [],
   "source": [
    "counter=[]\n",
    "for iter1 in range(0,predict.shape[0]):\n",
    "    temp=0\n",
    "    for iter2 in range(0,predict.shape[1]):\n",
    "        if predict[iter1,iter2] == y_test_multi.iloc[iter1,iter2]:\n",
    "            temp+=1\n",
    "    counter.append(temp)\n",
    "for i in range (0,len(counter)):\n",
    "    counter[i] = counter[i]/14\n",
    "multi_label_nb_accuracy = sum(counter) / len(counter)\n",
    "multi_label_nb_r2 = r2_score(y_test_multi,predict)"
   ]
  },
  {
   "cell_type": "code",
   "execution_count": 154,
   "id": "7f5afac5",
   "metadata": {},
   "outputs": [],
   "source": [
    "#dtc"
   ]
  },
  {
   "cell_type": "code",
   "execution_count": 155,
   "id": "504ec87e",
   "metadata": {},
   "outputs": [
    {
     "name": "stdout",
     "output_type": "stream",
     "text": [
      "{'estimator__criterion': 'gini', 'estimator__max_depth': 2, 'estimator__min_samples_leaf': 1, 'estimator__min_samples_split': 2, 'estimator__splitter': 'best'}\n"
     ]
    }
   ],
   "source": [
    "model_to_set = MultiOutputClassifier(DecisionTreeClassifier(random_state=81))\n",
    "parameters = {\n",
    "    \"estimator__criterion\": [\"gini\", \"entropy\", \"log_loss\"],\n",
    "    \"estimator__splitter\": [\"best\", \"random\"],\n",
    "    \"estimator__max_depth\": [2, 3, 4, 5, 6, 7, 8, 9],\n",
    "    \"estimator__min_samples_split\": [2, 4, 6, 10],\n",
    "    \"estimator__min_samples_leaf\": [1, 2, 4, 6, 8, 10, 12],\n",
    "}\n",
    "scoring = {'AUC': 'roc_auc', 'F1': 'f1_weighted'}\n",
    "model_tunning = GridSearchCV(model_to_set, param_grid=parameters,\n",
    "                             scoring=scoring,refit='AUC')\n",
    "model_tunning.fit(X_train_scaled_multi, y_train_multi)\n",
    "print(model_tunning.best_params_)"
   ]
  },
  {
   "cell_type": "code",
   "execution_count": 156,
   "id": "b0fd66c6",
   "metadata": {},
   "outputs": [
    {
     "name": "stdout",
     "output_type": "stream",
     "text": [
      "GridSearchCV + multiple scorers\n",
      "================================================================================\n",
      "best estimator: MultiOutputClassifier(estimator=DecisionTreeClassifier(max_depth=2,\n",
      "                                                       random_state=81))\n",
      "best params: {'estimator__criterion': 'gini', 'estimator__max_depth': 2, 'estimator__min_samples_leaf': 1, 'estimator__min_samples_split': 2, 'estimator__splitter': 'best'}\n",
      "================================================================================\n"
     ]
    }
   ],
   "source": [
    "results = model_tunning.cv_results_\n",
    "print('GridSearchCV + multiple scorers')\n",
    "print('='*80)\n",
    "print(\"best estimator: \" + str(model_tunning.best_estimator_))\n",
    "print(\"best params: \" + str(model_tunning.best_params_))\n",
    "print('='*80)"
   ]
  },
  {
   "cell_type": "code",
   "execution_count": 157,
   "id": "50f47259",
   "metadata": {},
   "outputs": [
    {
     "name": "stdout",
     "output_type": "stream",
     "text": [
      "Learning time: 0.11056017999999312\n"
     ]
    }
   ],
   "source": [
    "import timeit\n",
    "model_to_set = MultiOutputClassifier(DecisionTreeClassifier(criterion='gini',max_depth=2,min_samples_leaf=1,\n",
    "                                                           min_samples_split=2,splitter='best'))\n",
    "starttime = timeit.default_timer()\n",
    "model_to_set.fit(X_train_scaled_multi,y_train_multi)\n",
    "multi_label_dtc_time = timeit.default_timer() - starttime\n",
    "print(\"Learning time:\", multi_label_dtc_time)\n",
    "predict = model_to_set.predict(X_test_scaled_multi)"
   ]
  },
  {
   "cell_type": "code",
   "execution_count": 158,
   "id": "919c2173",
   "metadata": {},
   "outputs": [],
   "source": [
    "counter=[]\n",
    "for iter1 in range(0,predict.shape[0]):\n",
    "    temp=0\n",
    "    for iter2 in range(0,predict.shape[1]):\n",
    "        if predict[iter1,iter2] == y_test_multi.iloc[iter1,iter2]:\n",
    "            temp+=1\n",
    "    counter.append(temp)\n",
    "for i in range (0,len(counter)):\n",
    "    counter[i] = counter[i]/14\n",
    "multi_label_dtc_accuracy = sum(counter) / len(counter)\n",
    "multi_label_dtc_r2 = r2_score(y_test_multi,predict)"
   ]
  },
  {
   "cell_type": "code",
   "execution_count": null,
   "id": "9e415cae",
   "metadata": {},
   "outputs": [],
   "source": []
  },
  {
   "cell_type": "code",
   "execution_count": 159,
   "id": "e9992785",
   "metadata": {},
   "outputs": [],
   "source": [
    "#classifier_chain\n",
    "from sklearn.multioutput import ClassifierChain"
   ]
  },
  {
   "cell_type": "code",
   "execution_count": 160,
   "id": "d222f262",
   "metadata": {},
   "outputs": [],
   "source": [
    "#logreg"
   ]
  },
  {
   "cell_type": "code",
   "execution_count": 161,
   "id": "978e94b9",
   "metadata": {},
   "outputs": [
    {
     "name": "stdout",
     "output_type": "stream",
     "text": [
      "{'base_estimator__C': 1e-15}\n"
     ]
    }
   ],
   "source": [
    "model_to_set = ClassifierChain(LogisticRegression())\n",
    "parameters = {\n",
    "    \"base_estimator__C\": np.arange(1e-15, 1, 0.01)\n",
    "}\n",
    "scoring = {'AUC': 'roc_auc', 'F1': 'f1_weighted'}\n",
    "n_folds=5\n",
    "n_repeats=5\n",
    "model_tunning = GridSearchCV(model_to_set, param_grid=parameters,\n",
    "                             scoring=scoring,refit='AUC')\n",
    "model_tunning.fit(X_train_scaled_multi, y_train_multi)\n",
    "print(model_tunning.best_params_)"
   ]
  },
  {
   "cell_type": "code",
   "execution_count": 162,
   "id": "867d62cc",
   "metadata": {},
   "outputs": [
    {
     "name": "stdout",
     "output_type": "stream",
     "text": [
      "GridSearchCV + multiple scorers + RepeatedStratifiedKFold\n",
      "================================================================================\n",
      "best estimator: ClassifierChain(base_estimator=LogisticRegression(C=1e-15))\n",
      "best params: {'base_estimator__C': 1e-15}\n",
      "================================================================================\n"
     ]
    }
   ],
   "source": [
    "results = model_tunning.cv_results_\n",
    "print('GridSearchCV + multiple scorers + RepeatedStratifiedKFold')\n",
    "print('='*80)\n",
    "print(\"best estimator: \" + str(model_tunning.best_estimator_))\n",
    "print(\"best params: \" + str(model_tunning.best_params_))\n",
    "print('='*80)"
   ]
  },
  {
   "cell_type": "code",
   "execution_count": 163,
   "id": "c9ff7452",
   "metadata": {},
   "outputs": [
    {
     "name": "stdout",
     "output_type": "stream",
     "text": [
      "Learning time: 0.10422540400031721\n"
     ]
    }
   ],
   "source": [
    "import timeit\n",
    "model_to_set = ClassifierChain(LogisticRegression(C=1e-15))\n",
    "starttime = timeit.default_timer()\n",
    "model_to_set.fit(X_train_scaled_multi,y_train_multi)\n",
    "classifier_chain_lr_time = timeit.default_timer() - starttime\n",
    "print(\"Learning time:\", classifier_chain_lr_time)\n",
    "predict = model_to_set.predict(X_test_scaled_multi)"
   ]
  },
  {
   "cell_type": "code",
   "execution_count": 164,
   "id": "d59d14fb",
   "metadata": {},
   "outputs": [],
   "source": [
    "counter=[]\n",
    "for iter1 in range(0,predict.shape[0]):\n",
    "    temp=0\n",
    "    for iter2 in range(0,predict.shape[1]):\n",
    "        if predict[iter1,iter2] == y_test_multi.iloc[iter1,iter2]:\n",
    "            temp+=1\n",
    "    counter.append(temp)\n",
    "for i in range (0,len(counter)):\n",
    "    counter[i] = counter[i]/14\n",
    "classifier_chain_lr_accuracy = sum(counter) / len(counter)\n",
    "classifier_chain_lr_r2 = r2_score(y_test_multi,predict)"
   ]
  },
  {
   "cell_type": "code",
   "execution_count": 165,
   "id": "3bc49d4d",
   "metadata": {},
   "outputs": [],
   "source": [
    "#svm"
   ]
  },
  {
   "cell_type": "code",
   "execution_count": 166,
   "id": "c96e9983",
   "metadata": {},
   "outputs": [
    {
     "name": "stdout",
     "output_type": "stream",
     "text": [
      "{'base_estimator__C': 0.1, 'base_estimator__gamma': 'scale', 'base_estimator__kernel': 'linear'}\n"
     ]
    }
   ],
   "source": [
    "model_to_set = ClassifierChain(SVC(random_state=11))\n",
    "parameters = {\n",
    "    \"base_estimator__C\": [0.1, 0.25, 0.5, 0.75, 1, 2],\n",
    "    \"base_estimator__kernel\": [\"linear\", \"rbf\"],\n",
    "    \"base_estimator__gamma\": [\"scale\", \"auto\", 0.0001, 0.001, 0.01, 0.1, 1]\n",
    "}\n",
    "scoring = {'AUC': 'roc_auc', 'F1': 'f1_weighted'}\n",
    "n_folds=5\n",
    "n_repeats=5\n",
    "model_tunning = GridSearchCV(model_to_set, param_grid=parameters,\n",
    "                             scoring=scoring,refit='AUC')\n",
    "model_tunning.fit(X_train_scaled_multi, y_train_multi)\n",
    "print(model_tunning.best_params_)"
   ]
  },
  {
   "cell_type": "code",
   "execution_count": 167,
   "id": "b55aa488",
   "metadata": {},
   "outputs": [
    {
     "name": "stdout",
     "output_type": "stream",
     "text": [
      "GridSearchCV + multiple scorers\n",
      "================================================================================\n",
      "best estimator: ClassifierChain(base_estimator=SVC(C=0.1, kernel='linear', random_state=11))\n",
      "best params: {'base_estimator__C': 0.1, 'base_estimator__gamma': 'scale', 'base_estimator__kernel': 'linear'}\n",
      "================================================================================\n"
     ]
    }
   ],
   "source": [
    "results = model_tunning.cv_results_\n",
    "print('GridSearchCV + multiple scorers')\n",
    "print('='*80)\n",
    "print(\"best estimator: \" + str(model_tunning.best_estimator_))\n",
    "print(\"best params: \" + str(model_tunning.best_params_))\n",
    "print('='*80)"
   ]
  },
  {
   "cell_type": "code",
   "execution_count": 168,
   "id": "5b3a2f4f",
   "metadata": {},
   "outputs": [
    {
     "name": "stdout",
     "output_type": "stream",
     "text": [
      "Learning time: 0.4636629649999122\n"
     ]
    }
   ],
   "source": [
    "import timeit\n",
    "model_to_set = ClassifierChain(SVC(C=0.1, kernel='linear', random_state=11))\n",
    "starttime = timeit.default_timer()\n",
    "model_to_set.fit(X_train_scaled_multi,y_train_multi)\n",
    "classifier_chain_svc_time = timeit.default_timer() - starttime\n",
    "print(\"Learning time:\", classifier_chain_svc_time)\n",
    "predict = model_to_set.predict(X_test_scaled_multi)"
   ]
  },
  {
   "cell_type": "code",
   "execution_count": 169,
   "id": "7e95e01b",
   "metadata": {},
   "outputs": [],
   "source": [
    "counter=[]\n",
    "for iter1 in range(0,predict.shape[0]):\n",
    "    temp=0\n",
    "    for iter2 in range(0,predict.shape[1]):\n",
    "        if predict[iter1,iter2] == y_test_multi.iloc[iter1,iter2]:\n",
    "            temp+=1\n",
    "    counter.append(temp)\n",
    "for i in range (0,len(counter)):\n",
    "    counter[i] = counter[i]/14\n",
    "classifier_chain_svc_accuracy = sum(counter) / len(counter)\n",
    "classifier_chain_svc_r2 = r2_score(y_test_multi,predict)"
   ]
  },
  {
   "cell_type": "code",
   "execution_count": 170,
   "id": "f0e10569",
   "metadata": {},
   "outputs": [],
   "source": [
    "#knn"
   ]
  },
  {
   "cell_type": "code",
   "execution_count": 171,
   "id": "049ac5c6",
   "metadata": {},
   "outputs": [
    {
     "data": {
      "text/html": [
       "<style>#sk-container-id-1 {color: black;background-color: white;}#sk-container-id-1 pre{padding: 0;}#sk-container-id-1 div.sk-toggleable {background-color: white;}#sk-container-id-1 label.sk-toggleable__label {cursor: pointer;display: block;width: 100%;margin-bottom: 0;padding: 0.3em;box-sizing: border-box;text-align: center;}#sk-container-id-1 label.sk-toggleable__label-arrow:before {content: \"▸\";float: left;margin-right: 0.25em;color: #696969;}#sk-container-id-1 label.sk-toggleable__label-arrow:hover:before {color: black;}#sk-container-id-1 div.sk-estimator:hover label.sk-toggleable__label-arrow:before {color: black;}#sk-container-id-1 div.sk-toggleable__content {max-height: 0;max-width: 0;overflow: hidden;text-align: left;background-color: #f0f8ff;}#sk-container-id-1 div.sk-toggleable__content pre {margin: 0.2em;color: black;border-radius: 0.25em;background-color: #f0f8ff;}#sk-container-id-1 input.sk-toggleable__control:checked~div.sk-toggleable__content {max-height: 200px;max-width: 100%;overflow: auto;}#sk-container-id-1 input.sk-toggleable__control:checked~label.sk-toggleable__label-arrow:before {content: \"▾\";}#sk-container-id-1 div.sk-estimator input.sk-toggleable__control:checked~label.sk-toggleable__label {background-color: #d4ebff;}#sk-container-id-1 div.sk-label input.sk-toggleable__control:checked~label.sk-toggleable__label {background-color: #d4ebff;}#sk-container-id-1 input.sk-hidden--visually {border: 0;clip: rect(1px 1px 1px 1px);clip: rect(1px, 1px, 1px, 1px);height: 1px;margin: -1px;overflow: hidden;padding: 0;position: absolute;width: 1px;}#sk-container-id-1 div.sk-estimator {font-family: monospace;background-color: #f0f8ff;border: 1px dotted black;border-radius: 0.25em;box-sizing: border-box;margin-bottom: 0.5em;}#sk-container-id-1 div.sk-estimator:hover {background-color: #d4ebff;}#sk-container-id-1 div.sk-parallel-item::after {content: \"\";width: 100%;border-bottom: 1px solid gray;flex-grow: 1;}#sk-container-id-1 div.sk-label:hover label.sk-toggleable__label {background-color: #d4ebff;}#sk-container-id-1 div.sk-serial::before {content: \"\";position: absolute;border-left: 1px solid gray;box-sizing: border-box;top: 0;bottom: 0;left: 50%;z-index: 0;}#sk-container-id-1 div.sk-serial {display: flex;flex-direction: column;align-items: center;background-color: white;padding-right: 0.2em;padding-left: 0.2em;position: relative;}#sk-container-id-1 div.sk-item {position: relative;z-index: 1;}#sk-container-id-1 div.sk-parallel {display: flex;align-items: stretch;justify-content: center;background-color: white;position: relative;}#sk-container-id-1 div.sk-item::before, #sk-container-id-1 div.sk-parallel-item::before {content: \"\";position: absolute;border-left: 1px solid gray;box-sizing: border-box;top: 0;bottom: 0;left: 50%;z-index: -1;}#sk-container-id-1 div.sk-parallel-item {display: flex;flex-direction: column;z-index: 1;position: relative;background-color: white;}#sk-container-id-1 div.sk-parallel-item:first-child::after {align-self: flex-end;width: 50%;}#sk-container-id-1 div.sk-parallel-item:last-child::after {align-self: flex-start;width: 50%;}#sk-container-id-1 div.sk-parallel-item:only-child::after {width: 0;}#sk-container-id-1 div.sk-dashed-wrapped {border: 1px dashed gray;margin: 0 0.4em 0.5em 0.4em;box-sizing: border-box;padding-bottom: 0.4em;background-color: white;}#sk-container-id-1 div.sk-label label {font-family: monospace;font-weight: bold;display: inline-block;line-height: 1.2em;}#sk-container-id-1 div.sk-label-container {text-align: center;}#sk-container-id-1 div.sk-container {/* jupyter's `normalize.less` sets `[hidden] { display: none; }` but bootstrap.min.css set `[hidden] { display: none !important; }` so we also need the `!important` here to be able to override the default hidden behavior on the sphinx rendered scikit-learn.org. See: https://github.com/scikit-learn/scikit-learn/issues/21755 */display: inline-block !important;position: relative;}#sk-container-id-1 div.sk-text-repr-fallback {display: none;}</style><div id=\"sk-container-id-1\" class=\"sk-top-container\"><div class=\"sk-text-repr-fallback\"><pre>GridSearchCV(estimator=ClassifierChain(base_estimator=KNeighborsClassifier()),\n",
       "             param_grid={&#x27;base_estimator__n_neighbors&#x27;: array([1, 3, 5, 7, 9]),\n",
       "                         &#x27;base_estimator__weights&#x27;: [&#x27;uniform&#x27;, &#x27;distance&#x27;]},\n",
       "             refit=&#x27;AUC&#x27;, scoring={&#x27;AUC&#x27;: &#x27;roc_auc&#x27;, &#x27;F1&#x27;: &#x27;f1_weighted&#x27;})</pre><b>In a Jupyter environment, please rerun this cell to show the HTML representation or trust the notebook. <br />On GitHub, the HTML representation is unable to render, please try loading this page with nbviewer.org.</b></div><div class=\"sk-container\" hidden><div class=\"sk-item sk-dashed-wrapped\"><div class=\"sk-label-container\"><div class=\"sk-label sk-toggleable\"><input class=\"sk-toggleable__control sk-hidden--visually\" id=\"sk-estimator-id-1\" type=\"checkbox\" ><label for=\"sk-estimator-id-1\" class=\"sk-toggleable__label sk-toggleable__label-arrow\">GridSearchCV</label><div class=\"sk-toggleable__content\"><pre>GridSearchCV(estimator=ClassifierChain(base_estimator=KNeighborsClassifier()),\n",
       "             param_grid={&#x27;base_estimator__n_neighbors&#x27;: array([1, 3, 5, 7, 9]),\n",
       "                         &#x27;base_estimator__weights&#x27;: [&#x27;uniform&#x27;, &#x27;distance&#x27;]},\n",
       "             refit=&#x27;AUC&#x27;, scoring={&#x27;AUC&#x27;: &#x27;roc_auc&#x27;, &#x27;F1&#x27;: &#x27;f1_weighted&#x27;})</pre></div></div></div><div class=\"sk-parallel\"><div class=\"sk-parallel-item\"><div class=\"sk-item\"><div class=\"sk-label-container\"><div class=\"sk-label sk-toggleable\"><input class=\"sk-toggleable__control sk-hidden--visually\" id=\"sk-estimator-id-2\" type=\"checkbox\" ><label for=\"sk-estimator-id-2\" class=\"sk-toggleable__label sk-toggleable__label-arrow\">estimator: ClassifierChain</label><div class=\"sk-toggleable__content\"><pre>ClassifierChain(base_estimator=KNeighborsClassifier())</pre></div></div></div><div class=\"sk-serial\"><div class=\"sk-item sk-dashed-wrapped\"><div class=\"sk-parallel\"><div class=\"sk-parallel-item\"><div class=\"sk-item\"><div class=\"sk-label-container\"><div class=\"sk-label sk-toggleable\"><input class=\"sk-toggleable__control sk-hidden--visually\" id=\"sk-estimator-id-3\" type=\"checkbox\" ><label for=\"sk-estimator-id-3\" class=\"sk-toggleable__label sk-toggleable__label-arrow\">base_estimator: KNeighborsClassifier</label><div class=\"sk-toggleable__content\"><pre>KNeighborsClassifier()</pre></div></div></div><div class=\"sk-serial\"><div class=\"sk-item\"><div class=\"sk-estimator sk-toggleable\"><input class=\"sk-toggleable__control sk-hidden--visually\" id=\"sk-estimator-id-4\" type=\"checkbox\" ><label for=\"sk-estimator-id-4\" class=\"sk-toggleable__label sk-toggleable__label-arrow\">KNeighborsClassifier</label><div class=\"sk-toggleable__content\"><pre>KNeighborsClassifier()</pre></div></div></div></div></div></div></div></div></div></div></div></div></div></div></div>"
      ],
      "text/plain": [
       "GridSearchCV(estimator=ClassifierChain(base_estimator=KNeighborsClassifier()),\n",
       "             param_grid={'base_estimator__n_neighbors': array([1, 3, 5, 7, 9]),\n",
       "                         'base_estimator__weights': ['uniform', 'distance']},\n",
       "             refit='AUC', scoring={'AUC': 'roc_auc', 'F1': 'f1_weighted'})"
      ]
     },
     "execution_count": 171,
     "metadata": {},
     "output_type": "execute_result"
    }
   ],
   "source": [
    "model_to_set = ClassifierChain(KNeighborsClassifier())\n",
    "parameters = {\n",
    "    \"base_estimator__n_neighbors\": np.arange(1, 11, 2),\n",
    "    \"base_estimator__weights\": ['uniform', 'distance']\n",
    "}\n",
    "scoring = {'AUC': 'roc_auc', 'F1': 'f1_weighted'}\n",
    "model_tunning = GridSearchCV(model_to_set, param_grid=parameters,\n",
    "                             scoring=scoring,refit='AUC')\n",
    "model_tunning.fit(X_train_scaled_multi, y_train_multi)"
   ]
  },
  {
   "cell_type": "code",
   "execution_count": 172,
   "id": "cfce8238",
   "metadata": {},
   "outputs": [
    {
     "name": "stdout",
     "output_type": "stream",
     "text": [
      "GridSearchCV + multiple scorers\n",
      "================================================================================\n",
      "best estimator: ClassifierChain(base_estimator=KNeighborsClassifier(n_neighbors=1))\n",
      "best params: {'base_estimator__n_neighbors': 1, 'base_estimator__weights': 'uniform'}\n",
      "================================================================================\n"
     ]
    }
   ],
   "source": [
    "results = model_tunning.cv_results_\n",
    "print('GridSearchCV + multiple scorers')\n",
    "print('='*80)\n",
    "print(\"best estimator: \" + str(model_tunning.best_estimator_))\n",
    "print(\"best params: \" + str(model_tunning.best_params_))\n",
    "print('='*80)"
   ]
  },
  {
   "cell_type": "code",
   "execution_count": 173,
   "id": "19ffdda3",
   "metadata": {},
   "outputs": [
    {
     "name": "stdout",
     "output_type": "stream",
     "text": [
      "Learning time: 0.06961185999989539\n"
     ]
    }
   ],
   "source": [
    "import timeit\n",
    "model_to_set = ClassifierChain(KNeighborsClassifier(n_neighbors=1,weights='uniform'))\n",
    "starttime = timeit.default_timer()\n",
    "model_to_set.fit(X_train_scaled_multi,y_train_multi)\n",
    "classifier_chain_knn_time = timeit.default_timer() - starttime\n",
    "print(\"Learning time:\", classifier_chain_knn_time)\n",
    "predict = model_to_set.predict(X_test_scaled_multi)"
   ]
  },
  {
   "cell_type": "code",
   "execution_count": 174,
   "id": "2180eef7",
   "metadata": {},
   "outputs": [],
   "source": [
    "counter=[]\n",
    "for iter1 in range(0,predict.shape[0]):\n",
    "    temp=0\n",
    "    for iter2 in range(0,predict.shape[1]):\n",
    "        if predict[iter1,iter2] == y_test_multi.iloc[iter1,iter2]:\n",
    "            temp+=1\n",
    "    counter.append(temp)\n",
    "for i in range (0,len(counter)):\n",
    "    counter[i] = counter[i]/14\n",
    "classifier_chain_knn_accuracy = sum(counter) / len(counter)\n",
    "classifier_chain_knn_r2 = r2_score(y_test_multi,predict)"
   ]
  },
  {
   "cell_type": "code",
   "execution_count": 175,
   "id": "1c0ede2c",
   "metadata": {},
   "outputs": [],
   "source": [
    "#nb"
   ]
  },
  {
   "cell_type": "code",
   "execution_count": 176,
   "id": "29d5f449",
   "metadata": {},
   "outputs": [
    {
     "name": "stdout",
     "output_type": "stream",
     "text": [
      "{'base_estimator__priors': None, 'base_estimator__var_smoothing': 1.0}\n"
     ]
    }
   ],
   "source": [
    "model_to_set = ClassifierChain(GaussianNB())\n",
    "parameters = {\n",
    "    \"base_estimator__priors\": [None, [0.33, 0.33, 0.33]],\n",
    "    \"base_estimator__var_smoothing\": np.logspace(0, -9, num=100)\n",
    "}\n",
    "scoring = {'AUC': 'roc_auc', 'F1': 'f1_weighted'}\n",
    "model_tunning = GridSearchCV(model_to_set, param_grid=parameters,\n",
    "                             scoring=scoring,refit='AUC')\n",
    "model_tunning.fit(X_train_scaled_multi, y_train_multi)\n",
    "print(model_tunning.best_params_)"
   ]
  },
  {
   "cell_type": "code",
   "execution_count": 177,
   "id": "5ba9907f",
   "metadata": {},
   "outputs": [
    {
     "name": "stdout",
     "output_type": "stream",
     "text": [
      "GridSearchCV + multiple scorers\n",
      "================================================================================\n",
      "best estimator: ClassifierChain(base_estimator=GaussianNB(var_smoothing=1.0))\n",
      "best params: {'base_estimator__priors': None, 'base_estimator__var_smoothing': 1.0}\n",
      "================================================================================\n"
     ]
    }
   ],
   "source": [
    "results = model_tunning.cv_results_\n",
    "print('GridSearchCV + multiple scorers')\n",
    "print('='*80)\n",
    "print(\"best estimator: \" + str(model_tunning.best_estimator_))\n",
    "print(\"best params: \" + str(model_tunning.best_params_))\n",
    "print('='*80)"
   ]
  },
  {
   "cell_type": "code",
   "execution_count": 178,
   "id": "aded9c5b",
   "metadata": {},
   "outputs": [
    {
     "name": "stdout",
     "output_type": "stream",
     "text": [
      "Learning time: 0.11685705500030963\n"
     ]
    }
   ],
   "source": [
    "import timeit\n",
    "model_to_set = ClassifierChain(GaussianNB(priors=None,var_smoothing=1.0))\n",
    "starttime = timeit.default_timer()\n",
    "model_to_set.fit(X_train_scaled_multi,y_train_multi)\n",
    "classifier_chain_nb_time = timeit.default_timer() - starttime\n",
    "print(\"Learning time:\", classifier_chain_nb_time)\n",
    "predict = model_to_set.predict(X_test_scaled_multi)"
   ]
  },
  {
   "cell_type": "code",
   "execution_count": 179,
   "id": "f7134556",
   "metadata": {},
   "outputs": [],
   "source": [
    "counter=[]\n",
    "for iter1 in range(0,predict.shape[0]):\n",
    "    temp=0\n",
    "    for iter2 in range(0,predict.shape[1]):\n",
    "        if predict[iter1,iter2] == y_test_multi.iloc[iter1,iter2]:\n",
    "            temp+=1\n",
    "    counter.append(temp)\n",
    "for i in range (0,len(counter)):\n",
    "    counter[i] = counter[i]/14\n",
    "classifier_chain_nb_accuracy = sum(counter) / len(counter)\n",
    "classifier_chain_nb_r2 = r2_score(y_test_multi,predict)"
   ]
  },
  {
   "cell_type": "code",
   "execution_count": 180,
   "id": "6c46b3d7",
   "metadata": {},
   "outputs": [],
   "source": [
    "#dtc"
   ]
  },
  {
   "cell_type": "code",
   "execution_count": 181,
   "id": "16e79824",
   "metadata": {},
   "outputs": [
    {
     "name": "stdout",
     "output_type": "stream",
     "text": [
      "{'base_estimator__criterion': 'gini', 'base_estimator__max_depth': 2, 'base_estimator__min_samples_leaf': 1, 'base_estimator__min_samples_split': 2, 'base_estimator__splitter': 'best'}\n"
     ]
    }
   ],
   "source": [
    "model_to_set = ClassifierChain(DecisionTreeClassifier(random_state=81))\n",
    "parameters = {\n",
    "    \"base_estimator__criterion\": [\"gini\", \"entropy\", \"log_loss\"],\n",
    "    \"base_estimator__splitter\": [\"best\", \"random\"],\n",
    "    \"base_estimator__max_depth\": [2, 3, 4, 5, 6, 7, 8, 9],\n",
    "    \"base_estimator__min_samples_split\": [2, 4, 6, 10],\n",
    "    \"base_estimator__min_samples_leaf\": [1, 2, 4, 6, 8, 10, 12],\n",
    "}\n",
    "scoring = {'AUC': 'roc_auc', 'F1': 'f1_weighted'}\n",
    "model_tunning = GridSearchCV(model_to_set, param_grid=parameters,\n",
    "                             scoring=scoring,refit='AUC')\n",
    "model_tunning.fit(X_train_scaled_multi, y_train_multi)\n",
    "print(model_tunning.best_params_)"
   ]
  },
  {
   "cell_type": "code",
   "execution_count": 182,
   "id": "55a0db64",
   "metadata": {},
   "outputs": [
    {
     "name": "stdout",
     "output_type": "stream",
     "text": [
      "GridSearchCV + multiple scorers\n",
      "================================================================================\n",
      "best estimator: ClassifierChain(base_estimator=DecisionTreeClassifier(max_depth=2,\n",
      "                                                      random_state=81))\n",
      "best params: {'base_estimator__criterion': 'gini', 'base_estimator__max_depth': 2, 'base_estimator__min_samples_leaf': 1, 'base_estimator__min_samples_split': 2, 'base_estimator__splitter': 'best'}\n",
      "================================================================================\n"
     ]
    }
   ],
   "source": [
    "results = model_tunning.cv_results_\n",
    "print('GridSearchCV + multiple scorers')\n",
    "print('='*80)\n",
    "print(\"best estimator: \" + str(model_tunning.best_estimator_))\n",
    "print(\"best params: \" + str(model_tunning.best_params_))\n",
    "print('='*80)"
   ]
  },
  {
   "cell_type": "code",
   "execution_count": 183,
   "id": "ddbe5528",
   "metadata": {},
   "outputs": [
    {
     "name": "stdout",
     "output_type": "stream",
     "text": [
      "Learning time: 0.10868740700061608\n"
     ]
    }
   ],
   "source": [
    "import timeit\n",
    "model_to_set = ClassifierChain(DecisionTreeClassifier(criterion='gini',max_depth=2,min_samples_leaf=1,\n",
    "                                                           min_samples_split=2,splitter='best'))\n",
    "starttime = timeit.default_timer()\n",
    "model_to_set.fit(X_train_scaled_multi,y_train_multi)\n",
    "classifier_chain_dtc_time = timeit.default_timer() - starttime\n",
    "print(\"Learning time:\", classifier_chain_dtc_time)\n",
    "predict = model_to_set.predict(X_test_scaled_multi)"
   ]
  },
  {
   "cell_type": "code",
   "execution_count": 184,
   "id": "e914ffbc",
   "metadata": {},
   "outputs": [],
   "source": [
    "counter=[]\n",
    "for iter1 in range(0,predict.shape[0]):\n",
    "    temp=0\n",
    "    for iter2 in range(0,predict.shape[1]):\n",
    "        if predict[iter1,iter2] == y_test_multi.iloc[iter1,iter2]:\n",
    "            temp+=1\n",
    "    counter.append(temp)\n",
    "for i in range (0,len(counter)):\n",
    "    counter[i] = counter[i]/14\n",
    "classifier_chain_dtc_accuracy = sum(counter) / len(counter)\n",
    "classifier_chain_dtc_r2 = r2_score(y_test_multi,predict)"
   ]
  },
  {
   "cell_type": "markdown",
   "id": "fadb9ba6",
   "metadata": {},
   "source": [
    "# multioutput regression"
   ]
  },
  {
   "cell_type": "code",
   "execution_count": 185,
   "id": "c1e2cd31",
   "metadata": {},
   "outputs": [],
   "source": [
    "from sklearn.linear_model import Ridge"
   ]
  },
  {
   "cell_type": "code",
   "execution_count": 186,
   "id": "5ff2dc69",
   "metadata": {},
   "outputs": [],
   "source": [
    "#regressor_chain"
   ]
  },
  {
   "cell_type": "code",
   "execution_count": 187,
   "id": "9ba429cd",
   "metadata": {},
   "outputs": [],
   "source": [
    "from sklearn.multioutput import RegressorChain"
   ]
  },
  {
   "cell_type": "code",
   "execution_count": 188,
   "id": "1c53c8f4",
   "metadata": {},
   "outputs": [],
   "source": [
    "y1 = y_multi.loc[:,:'service_g']\n",
    "y2 = y_multi.loc[:,'service_h':]"
   ]
  },
  {
   "cell_type": "code",
   "execution_count": 189,
   "id": "52c25918",
   "metadata": {},
   "outputs": [],
   "source": [
    "for i in range (0,y1.shape[0]):\n",
    "    for j in range(0,y1.shape[1]):\n",
    "        y1.iloc[i,j] = y1.iloc[i,j]*(i*0.001+1)*(j*0.001+1)\n",
    "for i in range (0,y2.shape[0]):\n",
    "    for j in range(0,y2.shape[1]):\n",
    "        y2.iloc[i,j] = y2.iloc[i,j]*(i*0.001+1)*(j*0.001+1)"
   ]
  },
  {
   "cell_type": "code",
   "execution_count": 190,
   "id": "634ae67c",
   "metadata": {},
   "outputs": [],
   "source": [
    "y_multi['y1'] = y1.sum(axis=1)\n",
    "y_multi['y2'] = y2.sum(axis=1)"
   ]
  },
  {
   "cell_type": "code",
   "execution_count": 191,
   "id": "a2a8427c",
   "metadata": {},
   "outputs": [],
   "source": [
    "ys = y_multi.loc[:,'y1':]"
   ]
  },
  {
   "cell_type": "code",
   "execution_count": 192,
   "id": "2556bd30",
   "metadata": {},
   "outputs": [],
   "source": [
    "for_multioutput = np.asarray(ys)"
   ]
  },
  {
   "cell_type": "code",
   "execution_count": 193,
   "id": "190eb4d3",
   "metadata": {},
   "outputs": [],
   "source": [
    "X_train_multi, X_test_multi, y_train_multi, y_test_multi = train_test_split(X, for_multioutput, test_size = 0.3, random_state=42)\n",
    "scaler = StandardScaler()\n",
    "X_train_scaled_multi = scaler.fit_transform(X_train_multi)\n",
    "X_test_scaled_multi = scaler.transform(X_test_multi)"
   ]
  },
  {
   "cell_type": "code",
   "execution_count": null,
   "id": "88d40ebb",
   "metadata": {},
   "outputs": [],
   "source": []
  },
  {
   "cell_type": "code",
   "execution_count": 194,
   "id": "f376b8ad",
   "metadata": {},
   "outputs": [
    {
     "name": "stdout",
     "output_type": "stream",
     "text": [
      "{'base_estimator__alpha': 1e-15}\n"
     ]
    }
   ],
   "source": [
    "model_to_set = RegressorChain(Ridge(random_state=0))\n",
    "parameters = {\n",
    "    \"base_estimator__alpha\": np.arange(1e-15, 1, 0.01)\n",
    "}\n",
    "scoring = {'AUC': 'roc_auc', 'F1': 'f1_weighted', 'R2': 'r2'}\n",
    "model_tunning = GridSearchCV(model_to_set, param_grid=parameters,\n",
    "                             scoring=scoring,refit='R2')\n",
    "model_tunning.fit(X_train_scaled_multi, y_train_multi)\n",
    "print(model_tunning.best_params_)"
   ]
  },
  {
   "cell_type": "code",
   "execution_count": 195,
   "id": "b0140526",
   "metadata": {},
   "outputs": [
    {
     "name": "stdout",
     "output_type": "stream",
     "text": [
      "GridSearchCV + multiple scorers\n",
      "================================================================================\n",
      "best estimator: RegressorChain(base_estimator=Ridge(alpha=1e-15, random_state=0))\n",
      "best params: {'base_estimator__alpha': 1e-15}\n",
      "================================================================================\n"
     ]
    }
   ],
   "source": [
    "results = model_tunning.cv_results_\n",
    "print('GridSearchCV + multiple scorers')\n",
    "print('='*80)\n",
    "print(\"best estimator: \" + str(model_tunning.best_estimator_))\n",
    "print(\"best params: \" + str(model_tunning.best_params_))\n",
    "print('='*80)"
   ]
  },
  {
   "cell_type": "code",
   "execution_count": 196,
   "id": "f5398ae6",
   "metadata": {},
   "outputs": [
    {
     "name": "stdout",
     "output_type": "stream",
     "text": [
      "Learning time: 0.07061709499976132\n"
     ]
    }
   ],
   "source": [
    "import timeit\n",
    "model_to_set = RegressorChain(Ridge(alpha=1e-15,random_state=0))\n",
    "starttime = timeit.default_timer()\n",
    "model_to_set.fit(X_train_scaled_multi,y_train_multi)\n",
    "regressor_chain_ridge_time = timeit.default_timer() - starttime\n",
    "print(\"Learning time:\", regressor_chain_ridge_time)\n",
    "predict = model_to_set.predict(X_test_scaled_multi)"
   ]
  },
  {
   "cell_type": "code",
   "execution_count": 197,
   "id": "3338ee68",
   "metadata": {},
   "outputs": [],
   "source": [
    "regressor_chain_ridge_r2 = r2_score(y_test_multi,predict,multioutput='variance_weighted')"
   ]
  },
  {
   "cell_type": "code",
   "execution_count": 199,
   "id": "0ffc2624",
   "metadata": {},
   "outputs": [],
   "source": [
    "#multioutput_regressor\n",
    "from sklearn.multioutput import MultiOutputRegressor"
   ]
  },
  {
   "cell_type": "code",
   "execution_count": 200,
   "id": "e94b5c05",
   "metadata": {},
   "outputs": [
    {
     "name": "stdout",
     "output_type": "stream",
     "text": [
      "{'estimator__alpha': 1e-15}\n"
     ]
    }
   ],
   "source": [
    "model_to_set = MultiOutputRegressor(Ridge(random_state=0))\n",
    "parameters = {\n",
    "    \"estimator__alpha\": np.arange(1e-15, 1, 0.01)\n",
    "}\n",
    "scoring = {'AUC': 'roc_auc', 'F1': 'f1_weighted', 'R2': 'r2'}\n",
    "model_tunning = GridSearchCV(model_to_set, param_grid=parameters,\n",
    "                             scoring=scoring,refit='R2')\n",
    "model_tunning.fit(X_train_scaled_multi, y_train_multi)\n",
    "print(model_tunning.best_params_)"
   ]
  },
  {
   "cell_type": "code",
   "execution_count": 201,
   "id": "8deb930e",
   "metadata": {},
   "outputs": [
    {
     "name": "stdout",
     "output_type": "stream",
     "text": [
      "GridSearchCV + multiple scorers\n",
      "================================================================================\n",
      "best estimator: MultiOutputRegressor(estimator=Ridge(alpha=1e-15, random_state=0))\n",
      "best params: {'estimator__alpha': 1e-15}\n",
      "================================================================================\n"
     ]
    }
   ],
   "source": [
    "results = model_tunning.cv_results_\n",
    "print('GridSearchCV + multiple scorers')\n",
    "print('='*80)\n",
    "print(\"best estimator: \" + str(model_tunning.best_estimator_))\n",
    "print(\"best params: \" + str(model_tunning.best_params_))\n",
    "print('='*80)"
   ]
  },
  {
   "cell_type": "code",
   "execution_count": 202,
   "id": "2d63e5dd",
   "metadata": {},
   "outputs": [
    {
     "name": "stdout",
     "output_type": "stream",
     "text": [
      "Learning time: 0.07145711700013635\n"
     ]
    }
   ],
   "source": [
    "import timeit\n",
    "model_to_set = MultiOutputRegressor(Ridge(alpha=1e-15,random_state=0))\n",
    "starttime = timeit.default_timer()\n",
    "model_to_set.fit(X_train_scaled_multi,y_train_multi)\n",
    "regressor_multi_ridge_time = timeit.default_timer() - starttime\n",
    "print(\"Learning time:\", regressor_multi_ridge_time)\n",
    "predict = model_to_set.predict(X_test_scaled_multi)"
   ]
  },
  {
   "cell_type": "code",
   "execution_count": 203,
   "id": "5b786bfb",
   "metadata": {},
   "outputs": [],
   "source": [
    "regressor_multi_ridge_r2 = r2_score(y_test_multi,predict,multioutput='variance_weighted')"
   ]
  },
  {
   "cell_type": "code",
   "execution_count": null,
   "id": "24ccb7ab",
   "metadata": {},
   "outputs": [],
   "source": []
  },
  {
   "cell_type": "code",
   "execution_count": 204,
   "id": "cce04a78",
   "metadata": {},
   "outputs": [],
   "source": [
    "ovr_scores_lr = np.asarray([ovr_lr_time,ovr_lr_auc,ovr_lr_r2])\n",
    "ovr_scores_svc = np.asarray([ovr_svc_time,ovr_svc_auc,ovr_svc_r2])\n",
    "ovr_scores_knn = np.asarray([ovr_knn_time,ovr_knn_auc,ovr_knn_r2])\n",
    "ovr_scores_nb = np.asarray([ovr_nb_time,ovr_nb_auc,ovr_nb_r2])\n",
    "ovr_scores_dtc = np.asarray([ovr_dtc_time,ovr_dtc_auc,ovr_dtc_r2])"
   ]
  },
  {
   "cell_type": "code",
   "execution_count": 205,
   "id": "7901d845",
   "metadata": {},
   "outputs": [],
   "source": [
    "ovo_scores_lr = np.asarray([ovo_lr_time,ovo_lr_auc,ovo_lr_r2])\n",
    "ovo_scores_svc = np.asarray([ovo_svc_time,ovo_svc_auc,ovo_svc_r2])\n",
    "ovo_scores_knn = np.asarray([ovo_knn_time,ovo_knn_auc,ovo_knn_r2])\n",
    "ovo_scores_nb = np.asarray([ovo_nb_time,ovo_nb_auc,ovo_nb_r2])\n",
    "ovo_scores_dtc = np.asarray([ovo_dtc_time,ovo_dtc_auc,ovo_dtc_r2])"
   ]
  },
  {
   "cell_type": "code",
   "execution_count": 206,
   "id": "fed490f7",
   "metadata": {},
   "outputs": [],
   "source": [
    "out_code_scores_lr = np.asarray([out_code_lr_time,out_code_lr_auc,out_code_lr_r2])\n",
    "out_code_scores_svc = np.asarray([out_code_svc_time,out_code_svc_auc,out_code_svc_r2])\n",
    "out_code_scores_knn = np.asarray([out_code_knn_time,out_code_knn_auc,out_code_knn_r2])\n",
    "out_code_scores_nb = np.asarray([out_code_nb_time,out_code_nb_auc,out_code_nb_r2])\n",
    "out_code_scores_dtc = np.asarray([out_code_dtc_time,out_code_dtc_auc,out_code_dtc_r2])"
   ]
  },
  {
   "cell_type": "code",
   "execution_count": 207,
   "id": "0ea9f7b1",
   "metadata": {},
   "outputs": [],
   "source": [
    "multi_label_scores_lr = np.asarray([multi_label_lr_time,multi_label_lr_accuracy,multi_label_lr_r2])\n",
    "multi_label_scores_svc = np.asarray([multi_label_svc_time,multi_label_svc_accuracy,multi_label_svc_r2])\n",
    "multi_label_scores_knn = np.asarray([multi_label_knn_time,multi_label_knn_accuracy,multi_label_knn_r2])\n",
    "multi_label_scores_nb = np.asarray([multi_label_nb_time,multi_label_nb_accuracy,multi_label_nb_r2])\n",
    "multi_label_scores_dtc = np.asarray([multi_label_dtc_time,multi_label_dtc_accuracy,multi_label_dtc_r2])"
   ]
  },
  {
   "cell_type": "code",
   "execution_count": 208,
   "id": "6963829f",
   "metadata": {},
   "outputs": [],
   "source": [
    "classifier_chain_scores_lr = np.asarray([classifier_chain_lr_time,classifier_chain_lr_accuracy,classifier_chain_lr_r2])\n",
    "classifier_chain_scores_svc = np.asarray([classifier_chain_svc_time,classifier_chain_svc_accuracy,classifier_chain_svc_r2])\n",
    "classifier_chain_scores_knn = np.asarray([classifier_chain_knn_time,classifier_chain_knn_accuracy,classifier_chain_knn_r2])\n",
    "classifier_chain_scores_nb = np.asarray([classifier_chain_nb_time,classifier_chain_nb_accuracy,classifier_chain_nb_r2])\n",
    "classifier_chain_scores_dtc = np.asarray([classifier_chain_dtc_time,classifier_chain_dtc_accuracy,classifier_chain_dtc_r2])"
   ]
  },
  {
   "cell_type": "code",
   "execution_count": 209,
   "id": "82f7153c",
   "metadata": {},
   "outputs": [],
   "source": [
    "regressor_chain_scores_ridge = np.asarray([regressor_chain_ridge_time,0,regressor_chain_ridge_r2])\n",
    "regressor_multi_scores_ridge = np.asarray([regressor_multi_ridge_time,0,regressor_multi_ridge_r2])"
   ]
  },
  {
   "cell_type": "code",
   "execution_count": 210,
   "id": "45353db4",
   "metadata": {},
   "outputs": [],
   "source": [
    "scores = np.array([ovr_scores_lr,ovr_scores_svc,ovr_scores_knn,ovr_scores_nb,ovr_scores_dtc,\n",
    "                     ovo_scores_lr,ovo_scores_svc,ovo_scores_knn,ovo_scores_nb,ovo_scores_dtc,\n",
    "                     out_code_scores_lr,out_code_scores_svc,out_code_scores_knn,out_code_scores_nb,out_code_scores_dtc,\n",
    "                     multi_label_scores_lr,multi_label_scores_svc,multi_label_scores_knn,multi_label_scores_nb,multi_label_scores_dtc,\n",
    "                     classifier_chain_scores_lr,classifier_chain_scores_svc,classifier_chain_scores_knn,classifier_chain_scores_nb,classifier_chain_scores_dtc,\n",
    "                     regressor_chain_scores_ridge,regressor_multi_scores_ridge])\n",
    "scores_table = pd.DataFrame(data=scores,\n",
    "             index=['ovr_scores_lr','ovr_scores_svc','ovr_scores_knn','ovr_scores_nb',\n",
    "                    'ovr_scores_dtc','ovo_scores_lr','ovo_scores_svc','ovo_scores_knn',\n",
    "                   'ovo_scores_nb','ovo_scores_dtc','out_code_scores_lr','out_code_scores_svc',\n",
    "                   'out_code_scores_knn','out_code_scores_nb','out_code_scores_dtc','multi_label_scores_lr',\n",
    "                   'multi_label_scores_svc','multi_label_scores_knn','multi_label_scores_nb','multi_label_scores_dtc',\n",
    "                   'classifier_chain_scores_lr','classifier_chain_scores_svc','classifier_chain_scores_knn','classifier_chain_scores_nb',\n",
    "                   'classifier_chain_scores_dtc','regressor_chain_scores_ridge','regressor_multi_scores_ridge'],\n",
    "             columns=['time','auc/acc','r2'])  "
   ]
  },
  {
   "cell_type": "code",
   "execution_count": 211,
   "id": "1983ac90",
   "metadata": {},
   "outputs": [
    {
     "data": {
      "text/html": [
       "<div>\n",
       "<style scoped>\n",
       "    .dataframe tbody tr th:only-of-type {\n",
       "        vertical-align: middle;\n",
       "    }\n",
       "\n",
       "    .dataframe tbody tr th {\n",
       "        vertical-align: top;\n",
       "    }\n",
       "\n",
       "    .dataframe thead th {\n",
       "        text-align: right;\n",
       "    }\n",
       "</style>\n",
       "<table border=\"1\" class=\"dataframe\">\n",
       "  <thead>\n",
       "    <tr style=\"text-align: right;\">\n",
       "      <th></th>\n",
       "      <th>time</th>\n",
       "      <th>auc/acc</th>\n",
       "      <th>r2</th>\n",
       "    </tr>\n",
       "  </thead>\n",
       "  <tbody>\n",
       "    <tr>\n",
       "      <th>ovo_scores_knn</th>\n",
       "      <td>0.009731</td>\n",
       "      <td>0.962144</td>\n",
       "      <td>0.807416</td>\n",
       "    </tr>\n",
       "    <tr>\n",
       "      <th>ovr_scores_knn</th>\n",
       "      <td>0.014054</td>\n",
       "      <td>0.962144</td>\n",
       "      <td>0.807416</td>\n",
       "    </tr>\n",
       "    <tr>\n",
       "      <th>out_code_scores_knn</th>\n",
       "      <td>0.015580</td>\n",
       "      <td>0.962144</td>\n",
       "      <td>0.807416</td>\n",
       "    </tr>\n",
       "    <tr>\n",
       "      <th>ovo_scores_nb</th>\n",
       "      <td>0.015654</td>\n",
       "      <td>0.953648</td>\n",
       "      <td>0.818745</td>\n",
       "    </tr>\n",
       "    <tr>\n",
       "      <th>ovo_scores_lr</th>\n",
       "      <td>0.017437</td>\n",
       "      <td>0.996359</td>\n",
       "      <td>0.988672</td>\n",
       "    </tr>\n",
       "    <tr>\n",
       "      <th>ovo_scores_dtc</th>\n",
       "      <td>0.019353</td>\n",
       "      <td>1.000000</td>\n",
       "      <td>1.000000</td>\n",
       "    </tr>\n",
       "    <tr>\n",
       "      <th>out_code_scores_dtc</th>\n",
       "      <td>0.020822</td>\n",
       "      <td>1.000000</td>\n",
       "      <td>1.000000</td>\n",
       "    </tr>\n",
       "    <tr>\n",
       "      <th>ovr_scores_lr</th>\n",
       "      <td>0.021098</td>\n",
       "      <td>0.996359</td>\n",
       "      <td>0.988672</td>\n",
       "    </tr>\n",
       "    <tr>\n",
       "      <th>ovr_scores_dtc</th>\n",
       "      <td>0.021612</td>\n",
       "      <td>1.000000</td>\n",
       "      <td>1.000000</td>\n",
       "    </tr>\n",
       "    <tr>\n",
       "      <th>ovr_scores_nb</th>\n",
       "      <td>0.022235</td>\n",
       "      <td>0.917644</td>\n",
       "      <td>0.637490</td>\n",
       "    </tr>\n",
       "    <tr>\n",
       "      <th>out_code_scores_nb</th>\n",
       "      <td>0.024913</td>\n",
       "      <td>0.962361</td>\n",
       "      <td>0.773431</td>\n",
       "    </tr>\n",
       "    <tr>\n",
       "      <th>ovo_scores_svc</th>\n",
       "      <td>0.026644</td>\n",
       "      <td>1.000000</td>\n",
       "      <td>1.000000</td>\n",
       "    </tr>\n",
       "    <tr>\n",
       "      <th>out_code_scores_lr</th>\n",
       "      <td>0.032274</td>\n",
       "      <td>0.996359</td>\n",
       "      <td>0.988672</td>\n",
       "    </tr>\n",
       "    <tr>\n",
       "      <th>ovr_scores_svc</th>\n",
       "      <td>0.048402</td>\n",
       "      <td>1.000000</td>\n",
       "      <td>1.000000</td>\n",
       "    </tr>\n",
       "    <tr>\n",
       "      <th>classifier_chain_scores_knn</th>\n",
       "      <td>0.069612</td>\n",
       "      <td>0.800000</td>\n",
       "      <td>-0.605013</td>\n",
       "    </tr>\n",
       "    <tr>\n",
       "      <th>multi_label_scores_knn</th>\n",
       "      <td>0.070596</td>\n",
       "      <td>0.800000</td>\n",
       "      <td>-0.605013</td>\n",
       "    </tr>\n",
       "    <tr>\n",
       "      <th>regressor_chain_scores_ridge</th>\n",
       "      <td>0.070617</td>\n",
       "      <td>0.000000</td>\n",
       "      <td>-3.913387</td>\n",
       "    </tr>\n",
       "    <tr>\n",
       "      <th>regressor_multi_scores_ridge</th>\n",
       "      <td>0.071457</td>\n",
       "      <td>0.000000</td>\n",
       "      <td>-3.913387</td>\n",
       "    </tr>\n",
       "    <tr>\n",
       "      <th>out_code_scores_svc</th>\n",
       "      <td>0.078572</td>\n",
       "      <td>1.000000</td>\n",
       "      <td>1.000000</td>\n",
       "    </tr>\n",
       "    <tr>\n",
       "      <th>multi_label_scores_nb</th>\n",
       "      <td>0.092910</td>\n",
       "      <td>0.469524</td>\n",
       "      <td>-7.855408</td>\n",
       "    </tr>\n",
       "    <tr>\n",
       "      <th>multi_label_scores_lr</th>\n",
       "      <td>0.095622</td>\n",
       "      <td>0.598571</td>\n",
       "      <td>-5.854347</td>\n",
       "    </tr>\n",
       "    <tr>\n",
       "      <th>classifier_chain_scores_lr</th>\n",
       "      <td>0.104225</td>\n",
       "      <td>0.634286</td>\n",
       "      <td>-4.868280</td>\n",
       "    </tr>\n",
       "    <tr>\n",
       "      <th>classifier_chain_scores_dtc</th>\n",
       "      <td>0.108687</td>\n",
       "      <td>0.862381</td>\n",
       "      <td>-0.176608</td>\n",
       "    </tr>\n",
       "    <tr>\n",
       "      <th>multi_label_scores_dtc</th>\n",
       "      <td>0.110560</td>\n",
       "      <td>0.866190</td>\n",
       "      <td>-0.113083</td>\n",
       "    </tr>\n",
       "    <tr>\n",
       "      <th>classifier_chain_scores_nb</th>\n",
       "      <td>0.116857</td>\n",
       "      <td>0.470476</td>\n",
       "      <td>-7.828750</td>\n",
       "    </tr>\n",
       "    <tr>\n",
       "      <th>multi_label_scores_svc</th>\n",
       "      <td>0.440954</td>\n",
       "      <td>0.809524</td>\n",
       "      <td>-0.467302</td>\n",
       "    </tr>\n",
       "    <tr>\n",
       "      <th>classifier_chain_scores_svc</th>\n",
       "      <td>0.463663</td>\n",
       "      <td>0.812857</td>\n",
       "      <td>-0.467782</td>\n",
       "    </tr>\n",
       "  </tbody>\n",
       "</table>\n",
       "</div>"
      ],
      "text/plain": [
       "                                  time   auc/acc        r2\n",
       "ovo_scores_knn                0.009731  0.962144  0.807416\n",
       "ovr_scores_knn                0.014054  0.962144  0.807416\n",
       "out_code_scores_knn           0.015580  0.962144  0.807416\n",
       "ovo_scores_nb                 0.015654  0.953648  0.818745\n",
       "ovo_scores_lr                 0.017437  0.996359  0.988672\n",
       "ovo_scores_dtc                0.019353  1.000000  1.000000\n",
       "out_code_scores_dtc           0.020822  1.000000  1.000000\n",
       "ovr_scores_lr                 0.021098  0.996359  0.988672\n",
       "ovr_scores_dtc                0.021612  1.000000  1.000000\n",
       "ovr_scores_nb                 0.022235  0.917644  0.637490\n",
       "out_code_scores_nb            0.024913  0.962361  0.773431\n",
       "ovo_scores_svc                0.026644  1.000000  1.000000\n",
       "out_code_scores_lr            0.032274  0.996359  0.988672\n",
       "ovr_scores_svc                0.048402  1.000000  1.000000\n",
       "classifier_chain_scores_knn   0.069612  0.800000 -0.605013\n",
       "multi_label_scores_knn        0.070596  0.800000 -0.605013\n",
       "regressor_chain_scores_ridge  0.070617  0.000000 -3.913387\n",
       "regressor_multi_scores_ridge  0.071457  0.000000 -3.913387\n",
       "out_code_scores_svc           0.078572  1.000000  1.000000\n",
       "multi_label_scores_nb         0.092910  0.469524 -7.855408\n",
       "multi_label_scores_lr         0.095622  0.598571 -5.854347\n",
       "classifier_chain_scores_lr    0.104225  0.634286 -4.868280\n",
       "classifier_chain_scores_dtc   0.108687  0.862381 -0.176608\n",
       "multi_label_scores_dtc        0.110560  0.866190 -0.113083\n",
       "classifier_chain_scores_nb    0.116857  0.470476 -7.828750\n",
       "multi_label_scores_svc        0.440954  0.809524 -0.467302\n",
       "classifier_chain_scores_svc   0.463663  0.812857 -0.467782"
      ]
     },
     "execution_count": 211,
     "metadata": {},
     "output_type": "execute_result"
    }
   ],
   "source": [
    "scores_table = scores_table.sort_values(by=['time'])\n",
    "scores_table"
   ]
  },
  {
   "cell_type": "code",
   "execution_count": null,
   "id": "d82ffd06",
   "metadata": {},
   "outputs": [],
   "source": []
  },
  {
   "cell_type": "code",
   "execution_count": null,
   "id": "e46923d3",
   "metadata": {},
   "outputs": [],
   "source": [
    "#test"
   ]
  },
  {
   "cell_type": "code",
   "execution_count": null,
   "id": "6309dc47",
   "metadata": {},
   "outputs": [],
   "source": [
    "from sklearn.multiclass import OneVsRestClassifier\n",
    "from sklearn.svm import LinearSVC\n",
    "model_o_v_rest = OneVsRestClassifier(LinearSVC(random_state=0))\n",
    "model_o_v_rest.fit(X_train_scaled, y_train)\n",
    "model_o_v_rest.predict(X_train_scaled)"
   ]
  },
  {
   "cell_type": "code",
   "execution_count": null,
   "id": "28f300f7",
   "metadata": {},
   "outputs": [],
   "source": [
    "from sklearn.multiclass import OneVsOneClassifier\n",
    "model_o_v_o = OneVsOneClassifier(LinearSVC(random_state=0))\n",
    "model_o_v_o.fit(X_train_scaled, y_train)\n",
    "model_o_v_o.predict(X_train_scaled)"
   ]
  },
  {
   "cell_type": "code",
   "execution_count": null,
   "id": "7fb62513",
   "metadata": {},
   "outputs": [],
   "source": [
    "from sklearn.multiclass import OutputCodeClassifier\n",
    "model_out_code = OutputCodeClassifier(LinearSVC(random_state=0), code_size=2, random_state=0)\n",
    "model_out_code.fit(X_train_scaled, y_train)\n",
    "model_out_code.predict(X_train_scaled)"
   ]
  },
  {
   "cell_type": "code",
   "execution_count": null,
   "id": "9fa2027c",
   "metadata": {},
   "outputs": [],
   "source": [
    "y_test.iloc[29]"
   ]
  },
  {
   "cell_type": "code",
   "execution_count": null,
   "id": "f22b06af",
   "metadata": {},
   "outputs": [],
   "source": [
    "outer = model_out_code.predict(X_test_scaled)"
   ]
  },
  {
   "cell_type": "code",
   "execution_count": null,
   "id": "9305ba60",
   "metadata": {
    "scrolled": true
   },
   "outputs": [],
   "source": [
    "outer[29]"
   ]
  },
  {
   "cell_type": "code",
   "execution_count": null,
   "id": "53d904ff",
   "metadata": {},
   "outputs": [],
   "source": []
  },
  {
   "cell_type": "code",
   "execution_count": null,
   "id": "99d7a180",
   "metadata": {},
   "outputs": [],
   "source": [
    "df = pd.read_csv('ml-course-main/data/multiclass_classification/train_labels.csv')\n",
    "df.head()"
   ]
  },
  {
   "cell_type": "code",
   "execution_count": null,
   "id": "05853d10",
   "metadata": {},
   "outputs": [],
   "source": [
    "y_multi = df.head(200).drop(columns = ['id'])\n",
    "y_multi.head()"
   ]
  },
  {
   "cell_type": "code",
   "execution_count": null,
   "id": "148a35d5",
   "metadata": {},
   "outputs": [],
   "source": [
    "X_train_multi, X_test_multi, y_train_multi, y_test_multi = train_test_split(X, y_multi, test_size = 0.3, random_state=42)\n",
    "scaler = StandardScaler()\n",
    "X_train_scaled_multi = scaler.fit_transform(X_train_multi)\n",
    "X_test_scaled_multi = scaler.transform(X_test_multi)"
   ]
  },
  {
   "cell_type": "code",
   "execution_count": null,
   "id": "2dc964c6",
   "metadata": {},
   "outputs": [],
   "source": [
    "from sklearn.datasets import make_multilabel_classification\n",
    "from sklearn.multioutput import MultiOutputClassifier\n",
    "from sklearn.linear_model import LogisticRegression\n",
    "model_multi_out = MultiOutputClassifier(LogisticRegression()).fit(X_train_scaled_multi, y_train_multi)\n",
    "outer = model_multi_out.predict(X_test_scaled_multi)"
   ]
  },
  {
   "cell_type": "code",
   "execution_count": null,
   "id": "e3d5ea69",
   "metadata": {},
   "outputs": [],
   "source": [
    "outer[0]"
   ]
  },
  {
   "cell_type": "code",
   "execution_count": null,
   "id": "f10cbb0c",
   "metadata": {},
   "outputs": [],
   "source": [
    "y_test_multi.iloc[0]"
   ]
  },
  {
   "cell_type": "code",
   "execution_count": null,
   "id": "aa7849bd",
   "metadata": {},
   "outputs": [],
   "source": [
    "from sklearn.multioutput import ClassifierChain\n",
    "model_chain = ClassifierChain(LogisticRegression(), order='random', random_state=0)\n",
    "model_chain.fit(X_train_scaled_multi, y_train_multi)\n",
    "outer = model_chain.predict(X_test_scaled_multi)"
   ]
  },
  {
   "cell_type": "code",
   "execution_count": null,
   "id": "a05c260b",
   "metadata": {},
   "outputs": [],
   "source": [
    "outer[0]"
   ]
  },
  {
   "cell_type": "code",
   "execution_count": null,
   "id": "71a50ad9",
   "metadata": {},
   "outputs": [],
   "source": []
  }
 ],
 "metadata": {
  "kernelspec": {
   "display_name": "Python 3 (ipykernel)",
   "language": "python",
   "name": "python3"
  },
  "language_info": {
   "codemirror_mode": {
    "name": "ipython",
    "version": 3
   },
   "file_extension": ".py",
   "mimetype": "text/x-python",
   "name": "python",
   "nbconvert_exporter": "python",
   "pygments_lexer": "ipython3",
   "version": "3.9.6"
  }
 },
 "nbformat": 4,
 "nbformat_minor": 5
}
